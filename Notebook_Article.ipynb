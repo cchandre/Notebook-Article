{
 "cells": [
  {
   "cell_type": "markdown",
   "metadata": {
    "colab_type": "text",
    "id": "xWIFGXHIS5W0"
   },
   "source": [
    "# Notebook article: *Strong field double ionization : The phase space perspective*\n",
    "\n",
    "---\n",
    "\n",
    "> [Cristel Chandre](https://orcid.org/0000-0003-3667-259X) and [Jonathan Dubois](https://orcid.org/0000-0002-6976-5488)\n",
    "\n",
    "based on [[F. Mauger, C. Chandre, T. Uzer, *Strong field double ionization: The phase space perspective*, Physical Review Letters 102, 173002 (2009)](https://dx.doi.org/10.1103/PhysRevLett.102.173002)]\n",
    "\n",
    "*Abstract*: We identify the phase-space structures that regulate atomic double ionization in strong ultrashort laser pulses. The emerging dynamical picture complements the recollision scenario by clarifying the distinct roles played by the recolliding and core electrons, and leads to verifiable predictions on the characteristic features of the \"knee\", a hallmark of the nonsequential process."
   ]
  },
  {
   "cell_type": "markdown",
   "metadata": {
    "colab_type": "text",
    "id": "f1xQLIYxTym9"
   },
   "source": [
    "## Introduction"
   ]
  },
  {
   "cell_type": "markdown",
   "metadata": {
    "colab_type": "text",
    "id": "LHRGS7oyT2yy"
   },
   "source": [
    "One of the most striking surprises of recent years in intense laser-matter interactions has come from multiple ionization by intense short laser pulses:  Correlated (nonsequential) double ionization rates were found to be \n",
    "several orders of magnitude higher than the uncorrelated sequential mechanism allows. This discrepancy has made the characteristic \"knee\" shape in the \n",
    "double ionization yield versus intensity plot into one of the most dramatic manifestations of electron-electron correlation in nature. The precise mechanism that makes correlation so effective is far from settled. Different scenarios have been proposed to explain the mechanism behind ionization [1-18] and have been confronted with experiments [19,20], the recollision scenario [2,3], in which the ionized electron is hurled back at the ion core by the laser, being in best accord with experiments. In Fig. 1, a typical double ionization probability as a function of the intensity of the laser field is plotted. Similar knees have been observed in experimental data [1,4,20-26] and successfully reproduced by quantal computations on atoms and molecules [5,27-29]. In a recent series of articles [8,9,12,13,29-31] characteristic features of double ionization were reproduced using classical trajectories and this success was ascribed to the paramount role of correlation [12]. Indeed, entirely classical interactions turn out to be adequate to generate the strong two-electron correlation needed for double ionization. \n",
    "\n",
    "In this Letter, we complement the well-known recollision scenario by identifying the organizing principles which explain the statistical properties of the classical trajectories such as ionization probabilities. In addition to the dynamical picture of the ionized electron provided by the recollision scenario, we connect the dynamics of the core electron and the energy flow leading to double ionization to relevant phase space structures (periodic orbits or invariant tori). The resulting picture leads to two verifiable predictions for key points which make up the knee in Fig. 1: namely the laser intensity where nonsequential double ionization is maximal and the intensity where the double ionization is complete. Of course, the saturation intensity emerges naturally in quantum mechanical calculations (e.g., Refs. [5,28]) provided they cover a wide enough intensity range."
   ]
  },
  {
   "cell_type": "markdown",
   "metadata": {
    "colab_type": "text",
    "id": "2Wr9MLgaUsuD"
   },
   "source": [
    "## Hamiltonian model"
   ]
  },
  {
   "cell_type": "markdown",
   "metadata": {
    "colab_type": "text",
    "id": "j0_CCzPWUyaQ"
   },
   "source": [
    "We work with the classical Hamiltonian model of the helium atom with soft Coulomb potentials [32,33]. The Hamiltonian is given by [10]:\n",
    "$$\n",
    "{\\mathcal H}(x,y,p_{x}, p_{y},t) =  \\frac{p_{x}^{2}}{2} + \\frac{ \n",
    "p_{y}^{2}}{2}+(x+y)E(t) + \\frac{1}{\\sqrt{(x-y)^{2}+b^2}} - \\frac{2}{\\sqrt{x^{2}+a^2}} - \\frac{2}{\\sqrt{y^{2}+a^2}}, \\tag{1}$$\n",
    "\n",
    "where $x$, $y$ and $p_{x}$, $p_{y}$ are the positions and \n",
    "(canonically conjugate) momenta of each electron respectively. The energy is initially fixed at the ground state ${\\cal E}_g$ [34].\n",
    "The laser field is modeled by a sinusoidal pulse with an envelope, i.e. \n",
    "$E(t)= E_{0} \\ f(t) \\ \\sin \\omega t$ where $E_{0}$ is the maximum amplitude and $\\omega$ the laser frequency. The \n",
    "pulse envelope $f(t)$ is chosen as a trapezoidal function with two laser cycle ramp-up and two laser cycle ramp-down [12,13,29,30]. \n",
    "Typical ionizing trajectories of Hamiltonian (1) show two \n",
    "qualitatively different routes to double ionization: \n",
    "nonsequential double ionization (NSDI), where the two electrons leave \n",
    "the core (inner) region at about the same time, and sequential double \n",
    "ionization (SDI), where one electron leaves the inner region long time \n",
    "after the other one has ionized."
   ]
  },
  {
   "cell_type": "code",
   "execution_count": 3,
   "metadata": {
    "colab": {},
    "colab_type": "code",
    "id": "h7HjIrBNKv2m"
   },
   "outputs": [],
   "source": [
    "#@title Parameters of the notebook {display-mode: \"form\"}\n",
    "#@markdown Atom\n",
    "a = 1.0 #@param {type:\"number\"}\n",
    "b = 1.0 #@param {type:\"number\"}\n",
    "E_g = -2.24 #@param {type:\"number\"}\n",
    "\n",
    "#@markdown Field\n",
    "Wavelength_in_nm = 780 #@param {type:\"number\"}\n",
    "Pulse_duration_in_lc = 8 #@param {type:\"integer\"}\n",
    "params_envelop = (2, Pulse_duration_in_lc-4, 2, 2)\n",
    "\n",
    "import matplotlib.pyplot as plt\n",
    "import numpy as np\n",
    "import time\n",
    "from scipy.optimize import fsolve\n",
    "from scipy.optimize import fmin\n",
    "import warnings\n",
    "warnings.filterwarnings('ignore', 'The iteration is not making good progress')\n",
    "\n",
    "class Atom:\n",
    "    def __init__(self, a, b, ground_state_energy, size=5.0, thresh=100):\n",
    "        self.a = a\n",
    "        self.b = b\n",
    "        self.a2 = a ** 2\n",
    "        self.b2 = b ** 2\n",
    "        self.E = ground_state_energy\n",
    "        self.size = size\n",
    "        self.thresh = thresh\n",
    "\n",
    "\n",
    "class Field:\n",
    "    def __init__(self, wavelength, intensity=[], envelope=[], params_envelop=[]):\n",
    "        self.wavelength = wavelength\n",
    "        self.frequency = 45.597 / wavelength\n",
    "        self.period = 2.0 * np.pi / self.frequency\n",
    "        self.intensity = intensity\n",
    "        self.amplitude = 5.338e-9 * np.sqrt(self.intensity)\n",
    "        self.envelope = envelope\n",
    "        self.params = params_envelop\n",
    "        self.times = np.cumsum(self.params)\n",
    "        self.tf = np.sum(self.params) * self.period\n",
    "\n",
    "\n",
    "class Integration:\n",
    "    def __init__(self, step, N=1, precision=np.float32):\n",
    "        self.N = N\n",
    "        self.h = step\n",
    "        self.precision = precision\n",
    "\n",
    "\n",
    "def trapezoidal(t, field):\n",
    "    tau = t / field.period\n",
    "    if tau < field.times[0]:\n",
    "        return tau / field.times[0]\n",
    "    elif field.times[0] <= tau <= field.times[1]:\n",
    "        return 1.0\n",
    "    elif field.times[1] < tau < field.times[2]:\n",
    "        return (field.times[2] - tau) / field.params[2]\n",
    "    else:\n",
    "        return 0.0\n",
    "\n",
    "\n",
    "def potential_2e(x, atom, is_deriv=False):\n",
    "    r12 = x[0, ] - x[1, ]\n",
    "    if is_deriv:\n",
    "        dv_dt = 2.0 * x / np.power(x ** 2 + atom.a2, 1.5)\n",
    "        rho12 = r12 / np.power(r12 ** 2 + atom.b2, 1.5)\n",
    "        dv_dt[0, ] -= rho12\n",
    "        dv_dt[1, ] += rho12\n",
    "        return dv_dt\n",
    "    else:\n",
    "        return - 2.0 / np.sqrt(x[0, ] ** 2 + atom.a2) - 2.0 / np.sqrt(x[1, ] ** 2 + atom.a2) \\\n",
    "               + 1.0 / np.sqrt(r12 ** 2 + atom.b2)\n",
    "\n",
    "\n",
    "def potential_1e(x, atom, is_deriv=False):\n",
    "    if is_deriv:\n",
    "        return 2.0 * x / np.power(x ** 2 + atom.a2, 1.5)\n",
    "    else:\n",
    "        return - 2.0 / np.sqrt(x ** 2 + atom.a2) \n",
    "\n",
    "\n",
    "def generate_initial_conditions(atom, integration):\n",
    "    yf = np.empty((4, 0))\n",
    "    nt = 0\n",
    "    while nt <= integration.N - 1:\n",
    "        x_rand = 2.0 * atom.size * np.random.random((2, integration.N)).astype(integration.precision) \\\n",
    "                 - atom.size\n",
    "        values_potential = potential_2e(x_rand, atom)\n",
    "        index = (values_potential >= atom.E)\n",
    "        x_rand = x_rand[:, np.logical_not(index)]\n",
    "        values_potential = values_potential[np.logical_not(index)]\n",
    "        length_valid = len(values_potential)\n",
    "        p_rand = 2.0 * np.random.random((2, length_valid)).astype(integration.precision) - 1.0\n",
    "        p_rand *= np.sqrt(2.0 * (atom.E - values_potential))\n",
    "        nt += length_valid\n",
    "        y = np.concatenate([x_rand, p_rand], axis=0)\n",
    "        yf = np.concatenate([yf, y], axis=1)\n",
    "    return integration.precision(yf[:4, :integration.N])\n",
    "\n",
    "\n",
    "def eqn_motion_2e(x, atom, field, integration, traj=False, output_times=[]):\n",
    "    t = 0.0\n",
    "    xf = x.copy()\n",
    "    xt = np.empty((4,0))\n",
    "    if traj:\n",
    "        n_output = np.rint(output_times / integration.h)\n",
    "        if 0 in n_output:\n",
    "            xt = x.copy().reshape((4,-1))\n",
    "    n_index = 1\n",
    "    while t <= field.tf:\n",
    "        e0_eff = field.amplitude * field.envelope(t, field) * np.sin(field.frequency * t)\n",
    "        xf[:2] += integration.h * 0.5 * xf[2:]\n",
    "        xf[2:] -= integration.h * (potential_2e(xf[:2], atom, is_deriv=True) + e0_eff)\n",
    "        xf[:2] += integration.h * 0.5 * xf[2:]\n",
    "        if traj and (n_index in n_output):\n",
    "            xt = np.hstack((xt, xf.reshape(4,-1)))\n",
    "        t += integration.h\n",
    "        n_index += 1\n",
    "    if traj:\n",
    "        return xt\n",
    "    else:\n",
    "        return xf\n",
    "\n",
    "\n",
    "def eqn_motion_1e(y, atom, field, integration, traj=False, output_times=[]):\n",
    "    t = 0.0\n",
    "    yf = y.copy()\n",
    "    yt = np.empty((2,0))\n",
    "    if traj:\n",
    "        n_output = np.rint(output_times / integration.h)\n",
    "        if 0 in n_output:\n",
    "            yt = y.copy().reshape((2,-1))\n",
    "    n_index = 0\n",
    "    while t <= field.tf:\n",
    "        e0_eff = field.amplitude * np.sin(field.frequency * t)\n",
    "        yf[0] += integration.h * 0.5 * yf[1]\n",
    "        yf[1] -= integration.h * (potential_1e(yf[0], atom, is_deriv=True) + e0_eff)\n",
    "        yf[0] += integration.h * 0.5 * yf[1]\n",
    "        if traj and (n_index in n_output):\n",
    "                yt = np.hstack((yt, yf.reshape(2,-1)))\n",
    "        t += integration.h\n",
    "        n_index += 1\n",
    "    if traj:\n",
    "        return yt\n",
    "    else:\n",
    "        return yf\n",
    "\n",
    "\n",
    "my_atom = Atom(a=a, b=b, ground_state_energy=E_g)\n",
    "envelope_name = trapezoidal"
   ]
  },
  {
   "cell_type": "markdown",
   "metadata": {
    "colab_type": "text",
    "id": "N-KhVyKVXpY0"
   },
   "source": [
    "## Figure 1: Double ionization (DI) probability for Hamiltonian (1) as a function of the intensity of the field $I$."
   ]
  },
  {
   "cell_type": "code",
   "execution_count": null,
   "metadata": {
    "colab": {
     "base_uri": "https://localhost:8080/",
     "height": 869
    },
    "colab_type": "code",
    "executionInfo": {
     "elapsed": 553082,
     "status": "ok",
     "timestamp": 1597743064020,
     "user": {
      "displayName": "Cristel Chandre",
      "photoUrl": "https://lh3.googleusercontent.com/a-/AOh14GiDuaMJBJyPVQYlNzXYWVH66FhPBipdSStoVltpeU0=s64",
      "userId": "10196882246576949447"
     },
     "user_tz": -120
    },
    "id": "dEQd3avTZoL6",
    "outputId": "c4565b1b-289f-4a4b-9ca5-86a569d55750"
   },
   "outputs": [
    {
     "name": "stdout",
     "output_type": "stream",
     "text": [
      "     Intensity (W/cm2)        DI Probability           CPU time (seconds)          \n",
      "___________________________________________________________________________________\n",
      "     3.00e+13                 0.0000                   75 \n",
      "     4.43e+13                 0.0003                   70 \n",
      "     6.55e+13                 0.0015                   69 \n",
      "     9.68e+13                 0.0052                   67 \n",
      "     1.43e+14                 0.0128                   67 \n",
      "     2.11e+14                 0.0236                   53 \n",
      "     3.12e+14                 0.0326                   26 \n",
      "     4.61e+14                 0.0395                   19 \n",
      "     6.82e+14                 0.0445                   15 \n",
      "     1.01e+15                 0.0464                   14 \n",
      "     1.49e+15                 0.0407                   13 \n",
      "     2.20e+15                 0.0453                   15 \n",
      "     3.25e+15                 0.0527                   14 \n",
      "     4.80e+15                 0.0823                   13 \n",
      "     7.10e+15                 0.1424                   9 \n",
      "     1.05e+16                 0.3185                   5 \n",
      "     1.55e+16                 0.6405                   3 \n",
      "     2.29e+16                 0.9397                   2 \n",
      "     3.38e+16                 0.9342                   2 \n",
      "     5.00e+16                 0.9458                   2 \n",
      "____________________________________________________________________________________\n"
     ]
    },
    {
     "data": {
      "image/png": "[encoded data removed]",
      "text/plain": [
       "<Figure size 684x540 with 1 Axes>"
      ]
     },
     "metadata": {
      "needs_background": "light",
      "tags": []
     },
     "output_type": "display_data"
    }
   ],
   "source": [
    "#@title Parameters of Figure 1 {display-mode: \"form\"}\n",
    "I_min = 3e13 #@param {type:\"number\"}\n",
    "I_max = 5e16 #@param {type:\"number\"}\n",
    "Number_of_Intensities =  20 #@param {type:\"integer\"}\n",
    "N = 50000\n",
    "h_step = 0.05\n",
    "\n",
    "print(\"     Intensity (W/cm2)        DI Probability           CPU time (seconds)          \")\n",
    "print(\"___________________________________________________________________________________\")\n",
    "Intensities = 10 ** np.linspace(np.log10(I_min), np.log10(I_max), Number_of_Intensities)\n",
    "proba_di = np.zeros(Number_of_Intensities)\n",
    "parameters = Integration(N=N, step=h_step)\n",
    "for it in range(Number_of_Intensities):\n",
    "    X0 = generate_initial_conditions(my_atom, parameters)\n",
    "    my_field = Field(wavelength=Wavelength_in_nm, intensity=Intensities[it], envelope=envelope_name, params_envelop=params_envelop)\n",
    "    start_di = time.time()\n",
    "    Xf = eqn_motion_2e(X0, my_atom, my_field, parameters)\n",
    "    cond_di = (np.abs(Xf[0]) >= my_atom.thresh) & (np.abs(Xf[1]) >= my_atom.thresh)\n",
    "    proba_di[it] = float(np.count_nonzero(cond_di) / parameters.N)\n",
    "    end_di = time.time()\n",
    "    print(\"     {:.2e}                 {:.4f}                   {} \".format(Intensities[it], proba_di[it], int(np.rint(end_di-start_di))))\n",
    "    if proba_di[it] == 0:\n",
    "        parameters.N = N\n",
    "    else:\n",
    "        parameters.N = min(N, int(np.floor(N/100/proba_di[it])))\n",
    "print(\"____________________________________________________________________________________\")\n",
    "\n",
    "plt.figure(figsize=(9.5,7.5))\n",
    "plt.xlabel('$I$ (W/cm$^2$)')\n",
    "plt.ylabel('Probability')\n",
    "plt.loglog(Intensities, proba_di, marker='o', color='r', linestyle='None', label='Double ionization')\n",
    "plt.show()"
   ]
  },
  {
   "cell_type": "markdown",
   "metadata": {
    "colab_type": "text",
    "id": "4W-Y9YiQVpn4"
   },
   "source": [
    "## Dynamics without the field"
   ]
  },
  {
   "cell_type": "markdown",
   "metadata": {
    "colab_type": "text",
    "id": "TMqkUQmSkmoN"
   },
   "source": [
    "We first analyze the dynamics of Hamiltonian (1) without the field ($E_0=0$) using linear stability properties such as obtained by the finite-time Lyapunov (FTL) exponents [35,36]. With each initial condition on a plane [e.g., $(x,p_x)$ with $y=0$, and $p_y$ determined by ${\\mathcal H}={\\mathcal E}_g$ on Fig. 2] for Hamiltonian (1), we associate a coefficient which quantifies the degree of chaos experienced by the trajectory up to a given time. \n",
    "A typical FTL map is depicted in Fig. 2 \n",
    "for Hamiltonian (1) without the field. It clearly displays strong and global chaos by showing fine details of the \n",
    "stretching and folding of trajectories [35]. In particular, there are no regular elliptic islands of stability contrary to what is common with Hamiltonian systems on a bounded energy manifold. By examining typical trajectories, we notice that the motion of the two electrons tracks, at different times, one of four hyperbolic periodic orbits. Their period is 29 a.u., i.e., much shorter than the duration of the laser pulse (of order 800 a.u.). The projections of two of them, $O_1$ and $O_2$, on the $(x,p_x)$ plane, are displayed in Fig. 2. The two other ones are obtained from $O_1$ and $O_2$ using the symmetries of Hamiltonian (1). In particular, if one electron is on the inner curve in $(x,p_x)$, the second electron is on the outer curve in $(y,p_y)$. Consequently, a typical two-electron trajectory is composed of one electron close to the nucleus (the \"inner\" electron, in blue) and another further away (the \"outer\" electron, in red), with quick exchanges of the roles of each electron. This distinction is crucial when the laser field is turned on: Since the contribution of the field-electron interaction to Hamiltonian (1) is proportional to the position, the action of the field is larger for the outer electron, while the inner electron is mainly driven by the interaction with the \n",
    "nucleus. "
   ]
  },
  {
   "cell_type": "markdown",
   "metadata": {
    "colab_type": "text",
    "id": "hwRzF7uhlgXZ"
   },
   "source": [
    "## Figure 2: FTL map of Hamiltonian (1) without the field in the plane $(x,p_{x})$ with $y=0$."
   ]
  },
  {
   "cell_type": "code",
   "execution_count": null,
   "metadata": {
    "colab": {},
    "colab_type": "code",
    "id": "X63mvvYQGREv"
   },
   "outputs": [],
   "source": [
    "#@title Parameters of Figure 2  {display-mode: \"form\"}\n",
    "N_x = 1024 #@param {type: \"number\"}\n",
    "N_y = 1024 #@param {type: \"number\"}\n",
    "t_f = 43\n",
    "h_step = 0.05\n",
    "\n",
    "def eqn_motion_Jac_2e(x, J, atom, integration, t_f):\n",
    "    t = 0.0\n",
    "    xf = x.copy()\n",
    "    Jf = J.copy()\n",
    "    while t <= t_f:\n",
    "        xf[:2] += integration.h * 0.5 * xf[2:]\n",
    "        xf[2:] -= integration.h * potential_2e(xf[:2], atom, is_deriv=True)\n",
    "        Vxx = 2.0 * (atom.a2 - 2.0 * xf[0] ** 2) / np.power(xf[0] ** 2 + atom.a2, 2.5) - (atom.b2 - 2.0 * (xf[0]-xf[1]) ** 2) / np.power((xf[0]-xf[1]) ** 2 + atom.b2, 2.5)\n",
    "        Vyy = 2.0 * (atom.a2 - 2.0 * xf[1] ** 2) / np.power(xf[1] ** 2 + atom.a2, 2.5) - (atom.b2 - 2.0 * (xf[0]-xf[1]) ** 2) / np.power((xf[0]-xf[1]) ** 2 + atom.b2, 2.5)\n",
    "        Vxy = (atom.b2 - 2.0 * (xf[0]-xf[1]) ** 2) / np.power((xf[0]-xf[1]) ** 2 + atom.b2, 2.5)\n",
    "        xf[:2] += integration.h * 0.5 * xf[2:]\n",
    "        Jf[0:13:4] = (1.0 - integration.h ** 2 * 0.5 * Vxx) * J[0:13:4] - integration.h ** 2 * 0.5 * Vxy * J[1:14:4] + integration.h * ((1.0 - 0.25 * integration.h ** 2 * Vxx) * J[2:15:4] - 0.25 * integration.h ** 2 * Vxy * J[3:16:4])\n",
    "        Jf[1:14:4] = (1.0 - integration.h ** 2 * 0.5 * Vyy) * J[1:14:4] - integration.h ** 2 * 0.5 * Vxy * J[0:13:4] + integration.h * ((1.0 - 0.25 * integration.h ** 2 * Vyy) * J[3:16:4] - 0.25 * integration.h ** 2 * Vxy * J[2:15:4])\n",
    "        Jf[2:15:4] = - integration.h * Vxx * J[0:13:4] - integration.h * Vxy * J[1:14:4] + (1.0 - integration.h ** 2 * 0.5 * Vxx) * J[2:15:4] - integration.h ** 2 * 0.5 * Vxy * J[3:16:4]\n",
    "        Jf[3:16:4] = - integration.h * Vyy * J[1:14:4] - integration.h * Vxy * J[0:13:4] + (1.0 - integration.h ** 2 * 0.5 * Vyy) * J[3:16:4] - integration.h ** 2 * 0.5 * Vxy * J[2:15:4]\n",
    "        J = Jf.copy()\n",
    "        t += integration.h\n",
    "    return xf, Jf\n",
    "\n",
    "x0 = np.linspace(-4.5, 4.5, N_x)\n",
    "px0 = np.linspace(-1.5, 1.5, N_y)\n",
    "X0 = np.tile(x0, N_y)\n",
    "Px0 = np.repeat(px0, N_x)\n",
    "Q = my_atom.E - 0.5 * Px0 ** 2 - potential_2e(np.array([X0, np.zeros(X0.size)]), my_atom)\n",
    "indices = np.where(Q >= 0)\n",
    "Py0 = np.sqrt(2.0 * Q[indices])\n",
    "parameters = Integration(N=Py0.size, step=h_step)\n",
    "x = np.array([X0[indices], np.zeros(parameters.N), Px0[indices], Py0])\n",
    "J = np.identity(4).reshape(-1)\n",
    "J = np.repeat(J[:,np.newaxis], parameters.N, axis=1)\n",
    "x, J = eqn_motion_Jac_2e(x, J, my_atom, parameters, t_f)\n",
    "Lambda = np.empty((N_x*N_y))\n",
    "Lambda[:] = np.NaN\n",
    "for i in np.arange(parameters.N):\n",
    "    w, v = np.linalg.eig(J[:,i].reshape(4,4))\n",
    "    Lambda[indices[0][i]] = np.log(np.amax(np.abs(w))) / t_f\n",
    "    \n",
    "fig1 = plt.figure(figsize=(9.5,7.5))\n",
    "pcol = plt.pcolor(x0, px0, Lambda.reshape((N_y,N_x)), cmap='magma', vmin=0, vmax=0.6, shading='auto')\n",
    "fig1.colorbar(pcol)\n",
    "plt.xlabel('$x$')\n",
    "plt.ylabel('$p_x$')\n",
    "plt.xlim([-4.5, 4.5])\n",
    "plt.ylim([-1.5, 1.5])\n",
    "\n",
    "def eqn_motion_2e_free(x, t_f, atom, integration, traj=False, output_times=[]):\n",
    "    t = 0.0\n",
    "    xf = x.copy()\n",
    "    xt = np.empty((4,0))\n",
    "    if traj:\n",
    "        n_output = np.rint(output_times / integration.h)\n",
    "        if 0 in n_output:\n",
    "            xt = x.copy().reshape((4,-1))\n",
    "    n_index = 1\n",
    "    while t <= t_f:\n",
    "        xf[:2] += integration.h * 0.5 * xf[2:]\n",
    "        xf[2:] -= integration.h * potential_2e(xf[:2], atom, is_deriv=True)\n",
    "        xf[:2] += integration.h * 0.5 * xf[2:]\n",
    "        if traj and (n_index in n_output):\n",
    "            xt = np.hstack((xt, xf.reshape(4,-1)))\n",
    "        t += integration.h\n",
    "        n_index += 1\n",
    "    if traj:\n",
    "        return xt\n",
    "    else:\n",
    "        return xf\n",
    "    \n",
    "def eqn_motion_2e_section(x, t_f, atom, integration, output_times=[]):\n",
    "    t = 0.0\n",
    "    eps = 1.0e-14\n",
    "    xf = x.copy()\n",
    "    gc, sc = Poincare_section(xf) \n",
    "    h = integration.h\n",
    "    while t <= t_f:\n",
    "        xf[:2] += h * 0.5 * xf[2:]\n",
    "        xf[2:] -= h * potential_2e(xf[:2], atom, is_deriv=True)\n",
    "        xf[:2] += h * 0.5 * xf[2:]    \n",
    "        t += h\n",
    "        gf, sc = Poincare_section(xf)\n",
    "        if np.abs(gf) < eps:\n",
    "            return t, xf\n",
    "        if (gc * gf < 0) & (gc * h * sc > 0):\n",
    "            h *= - 0.1\n",
    "        gc = gf\n",
    "    return t, xf\n",
    "\n",
    "def Poincare_section(y):\n",
    "    # return the zero function of the Poincaré section and the direction of the crossing\n",
    "    return y[2], 1.0 \n",
    "\n",
    "def diff_motion_2e(y, atom, integration): \n",
    "    Y0 = np.array([y[0], y[1], 0.0, np.sqrt(2.0 * (atom.E - potential_2e(y, atom)))])\n",
    "    tf, Yf = eqn_motion_2e_section(Y0, 100.0, atom, integration)\n",
    "    return sum((Yf-Y0) ** 2)\n",
    "\n",
    "x0 = 2.5\n",
    "y0 = 0.1\n",
    "if my_atom.E - potential_2e(np.array([x0,y0]), my_atom) < 0:\n",
    "    print('The initial guess does not belong to the initial energy level.')\n",
    "else:\n",
    "    init_guess = np.array([x0,y0])\n",
    "    parameters = Integration(N=1, step=0.05, precision=np.float64)\n",
    "    Y0 = fmin(diff_motion_2e, init_guess, args=(my_atom, parameters), xtol=1.0e-8, maxiter=500, disp=False) \n",
    "    if diff_motion_2e(Y0, my_atom, parameters) > 1.0e-10:\n",
    "        print('The periodic orbit has not been found')\n",
    "        plt.show()\n",
    "    else:\n",
    "        Y0 = np.array([Y0[0],Y0[1],0.0,np.sqrt(2.0 * (my_atom.E - potential_2e(Y0, my_atom)))])\n",
    "        tf, yf = eqn_motion_2e_section(Y0, 100., my_atom, parameters)\n",
    "        Tt = np.linspace(0.0, tf, 1000)\n",
    "        Yt = eqn_motion_2e_free(Y0[:4], tf, my_atom, parameters, traj=True, output_times=Tt)\n",
    "        plt.plot(Yt[0], Yt[2], color='r', linewidth=2)\n",
    "        plt.plot(Yt[1], Yt[3], color='b', linewidth=2)\n",
    "        plt.show()\n",
    "        print('The period of the periodic orbit is {:.4f}'.format(tf))\n",
    "        \n",
    "        "
   ]
  },
  {
   "cell_type": "markdown",
   "metadata": {
    "colab_type": "text",
    "id": "Q-wLCkoYmRZs"
   },
   "source": [
    "## Figure 3: Typical trajectories of Hamiltonian (1) for initial conditions in the ground state energy of the atom."
   ]
  },
  {
   "cell_type": "code",
   "execution_count": null,
   "metadata": {
    "colab": {
     "base_uri": "https://localhost:8080/",
     "height": 501
    },
    "colab_type": "code",
    "executionInfo": {
     "elapsed": 555497,
     "status": "ok",
     "timestamp": 1597743066440,
     "user": {
      "displayName": "Cristel Chandre",
      "photoUrl": "https://lh3.googleusercontent.com/a-/AOh14GiDuaMJBJyPVQYlNzXYWVH66FhPBipdSStoVltpeU0=s64",
      "userId": "10196882246576949447"
     },
     "user_tz": -120
    },
    "id": "EWM_onLKGrk-",
    "jupyter": {
     "source_hidden": true
    },
    "outputId": "a5682013-f708-491b-a3b1-623df460c33f"
   },
   "outputs": [
    {
     "data": {
      "image/png": "[encoded data removed]",
      "text/plain": [
       "<Figure size 756x252 with 1 Axes>"
      ]
     },
     "metadata": {
      "needs_background": "light",
      "tags": []
     },
     "output_type": "display_data"
    },
    {
     "data": {
      "image/png": "[encoded data removed]",
      "text/plain": [
       "<Figure size 756x252 with 1 Axes>"
      ]
     },
     "metadata": {
      "needs_background": "light",
      "tags": []
     },
     "output_type": "display_data"
    }
   ],
   "source": [
    "#@title Parameters of Figure 3 {display-mode: \"form\"}\n",
    "Intensity = 2e14 #@param {type:\"number\"}\n",
    "Number_of_trajectories =  2#@param {type:\"number\"}\n",
    "\n",
    "my_field = Field(wavelength=Wavelength_in_nm, intensity=Intensity, envelope=envelope_name, params_envelop=params_envelop)\n",
    "parameters = Integration(N=10**2, step=h_step, precision=np.float64)\n",
    "X0 = generate_initial_conditions(my_atom, parameters)\n",
    "Tt = np.linspace(0.0, my_field.tf, 1000)\n",
    "for it in range(Number_of_trajectories):\n",
    "    X0_traj = X0[:, it]\n",
    "    Xt = eqn_motion_2e(X0_traj, my_atom, my_field, parameters, traj=True, output_times=Tt)\n",
    "    R1 = np.abs(Xt[0, -1])\n",
    "    R2 = np.abs(Xt[1, -1])\n",
    "    if (R1 <= my_atom.thresh) and (R2 <= my_atom.thresh):\n",
    "        label_ionization = \"No ionization\"\n",
    "    elif (R1 >= my_atom.thresh) and (R2 >= my_atom.thresh):\n",
    "        label_ionization = \"Double ionization\"\n",
    "    else:\n",
    "        label_ionization = \"Single ionization\"\n",
    "        \n",
    "    plt.figure(figsize=(10.5,3.5))\n",
    "    plt.plot(Tt/my_field.period, Xt[0], color='b', linewidth=2)\n",
    "    plt.plot(Tt/my_field.period, Xt[1], color='r', linewidth=2)\n",
    "    plt.annotate(label_ionization, (8, 10))\n",
    "    plt.xlabel('$t/T$')\n",
    "    plt.ylabel('Position (a.u.)')\n",
    "    plt.xlim([0, my_field.tf/my_field.period])\n",
    "    plt.ylim([-10, 20])\n",
    "    plt.show()"
   ]
  },
  {
   "cell_type": "markdown",
   "metadata": {
    "colab_type": "text",
    "id": "YKyccKnNmqHy"
   },
   "source": [
    "## Single ionization"
   ]
  },
  {
   "cell_type": "markdown",
   "metadata": {
    "colab_type": "text",
    "id": "qLFeamV9mtjZ"
   },
   "source": [
    "By switching on the field, the outer electron is picked up and swept away from the nucleus. Consequently, its effective Hamiltonian is:\n",
    "$$\n",
    "{\\mathcal H}_1=\\frac{p_x^2}{2} + E_0 x f(t) \\sin\\omega t. \\tag{2}\n",
    "$$\n",
    "We notice that Hamiltonian ${\\mathcal H}_1$ is integrable. Its solutions are approximately composed of linear escape from the nucleus (at time $t_0$) modulated by the action of the field [2,37,38] (see the red trajectory in Fig. 3). \n",
    "\n",
    "For the inner electron, the effective Hamiltonian contains the interaction with the nucleus and with the laser field:\n",
    "$$\n",
    "{\\mathcal H}_2=\\frac{p_y^2}{2}-\\frac{2}{\\sqrt{y^2+a^2}}+yE_0\\sin\\omega t. \\tag{3}\n",
    "$$\n",
    "\n",
    "In the absence of the field ($E_0=0$), ${\\mathcal H}_2$ is also integrable and the inner electron is confined on a periodic orbit. Since it stays close to the nucleus, its approximate period is $2\\pi a^{3/2}/\\sqrt{2}$ obtained from the harmonic approximation, as observed in Fig. 3."
   ]
  },
  {
   "cell_type": "markdown",
   "metadata": {
    "colab_type": "text",
    "id": "rb1_RY02nG3r"
   },
   "source": [
    "## Sequential double ionization (SDI)"
   ]
  },
  {
   "cell_type": "markdown",
   "metadata": {
    "colab_type": "text",
    "id": "JKW7Uco5nJ5b"
   },
   "source": [
    "Once an electron has been ionized (usually during the ramp-up of the field), the other electron is left with the nucleus and the field. Its effective Hamiltonian is ${\\mathcal H}_2$. A contour plot of the electron excursions after two laser cycles and a Poincar\\'e section of ${\\mathcal H}_2$ are depicted in Fig. 4. They clearly show two distinct regions: \n",
    "The first one is the core region which is composed of a collection of invariant tori which are slight deformations of the ones obtained in the integrable case ${\\mathcal H}_2$ without the field. This elliptic region is organized around a main elliptic periodic orbit which has the same period as the field $2\\pi/\\omega$. In this region, the electrons are fairly insensitive to the field, and do not ionize. The second region is the one outside the core where trajectories ionize quickly. It corresponds to sequential double ionization.  In between these two regions, any weak interaction (with the outer electron for instance) may move the inner electron confined on the outermost regular tori (but still inside the brown elliptical region) to the outer region where it ionizes quickly. \n",
    "\n",
    "If the laser intensity $I$ is too small, then the phase space is filled with invariant tori and no sequential double ionization can occur because the motion is regular. The sequential double ionization probability depends then on the size of the regular region around the elliptic periodic orbit, and hence on $I$.\n",
    "We have numerically computed the location and the stability of this periodic orbit [35]. When it exists, this periodic orbit stays elliptic in the whole range of intensities we have considered. On the stroboscopic plot (with frequency $\\omega$) the periodic orbit is located at $y=0$. In Fig. 4, the momentum $p_y$ of the periodic orbit on the stroboscopic plot is represented as a function of $I$. We notice that for a large set of intensities in the range $[10^{14}, 10^{16}]~ \\mbox{W} / \\mbox{cm}^{2}$, this periodic orbit is located close to $p_y= 0$. For intensities larger than a critical intensity $I_c$, the periodic orbit does not exist, and no major islands of regularity remain. Therefore, it is expected that the sequential double ionization probability is equal to one in this range of intensities, as observed on the probability curve on Fig. 1. The location of the local maximum of the potential of Hamiltonian (3) predicts that the intensity $I_c$ is approximately independent of $\\omega$, and it is given by $I_c\\approx 16/(27a^4)$."
   ]
  },
  {
   "cell_type": "markdown",
   "metadata": {
    "colab_type": "text",
    "id": "ItL_PfjkoFF1"
   },
   "source": [
    "## Figure 4: Upper panel: Contour plot of the electron location $y(t)$ of Hamiltonian (3), and Poincaré sections (stroboscopic plot) of selected trajectories in the elliptic central region. Lower panel: Momentum of the central periodic orbit (on the Poincaré section) of Hamiltonian (3) as a function of the laser intensity."
   ]
  },
  {
   "cell_type": "code",
   "execution_count": 6,
   "metadata": {
    "colab": {
     "base_uri": "https://localhost:8080/",
     "height": 666
    },
    "colab_type": "code",
    "executionInfo": {
     "elapsed": 64544,
     "status": "ok",
     "timestamp": 1597756299055,
     "user": {
      "displayName": "Cristel Chandre",
      "photoUrl": "https://lh3.googleusercontent.com/a-/AOh14GiDuaMJBJyPVQYlNzXYWVH66FhPBipdSStoVltpeU0=s64",
      "userId": "10196882246576949447"
     },
     "user_tz": -120
    },
    "id": "3LKFMJAiG7Mk",
    "outputId": "9423db3c-7474-447f-de2a-262229c61337"
   },
   "outputs": [
    {
     "data": {
      "image/png": "[encoded data removed]",
      "text/plain": [
       "<Figure size 684x540 with 3 Axes>"
      ]
     },
     "metadata": {
      "needs_background": "light"
     },
     "output_type": "display_data"
    },
    {
     "data": {
      "image/png": "[encoded data removed]",
      "text/plain": [
       "<Figure size 540x180 with 1 Axes>"
      ]
     },
     "metadata": {
      "needs_background": "light"
     },
     "output_type": "display_data"
    }
   ],
   "source": [
    "#@title Parameters of Figure 4 {display-mode: \"form\"}\n",
    "\n",
    "#@markdown Upper Panel\n",
    "Intensity = 5e15 #@param {type:\"number\"}\n",
    "final_time_in_lc = 2 \n",
    "y_max = 4.5 \n",
    "py_max = 1.5 \n",
    "resolution = 256 #@param [\"128\", \"256\", \"512\", \"1024\"] {type:\"raw\"}\n",
    "PStraj = 7\n",
    "Points_per_PStraj = 300\n",
    "h_step = 0.05\n",
    "\n",
    "#@markdown Lower Panel\n",
    "Imin = 1.7e16 #@param {type:\"number\"}\n",
    "Imax = 1.86e16 #@param {type:\"number\"}\n",
    "Number_of_intensities = 100\n",
    "init_guess = [0.0, -0.02]\n",
    "\n",
    "\n",
    "my_field = Field(wavelength=Wavelength_in_nm, intensity=Intensity)\n",
    "parameters = Integration(step=my_field.period/np.floor(my_field.period/h_step))\n",
    "my_field.tf = final_time_in_lc * my_field.period\n",
    "y = np.linspace(-y_max, y_max, resolution)\n",
    "py = np.linspace(-py_max, py_max, resolution)\n",
    "Yf = eqn_motion_1e(np.meshgrid(y, py), my_atom, my_field, parameters)\n",
    "\n",
    "fig1 = plt.figure(figsize=(9.5,7.5))\n",
    "pcol = plt.pcolor(y, py, np.log10(np.abs(Yf[0])), cmap='pink', vmin=-2, vmax=3, shading='auto')\n",
    "fig1.colorbar(pcol)\n",
    "plt.xlabel('$y$')\n",
    "plt.ylabel('$p_y$')\n",
    "plt.xlim((-y_max, y_max))\n",
    "plt.ylim((-py_max, py_max))\n",
    "\n",
    "parameters = Integration(step=my_field.period/np.floor(my_field.period/h_step), precision=np.float64)\n",
    "my_field.tf = Points_per_PStraj * my_field.period\n",
    "t_out = my_field.period * np.arange(3, Points_per_PStraj +1)\n",
    "y = np.linspace(0.0, my_atom.a, PStraj)\n",
    "Yt = eqn_motion_1e(np.vstack((y, np.zeros(PStraj))), my_atom, my_field, parameters, traj=True, output_times=t_out)\n",
    "\n",
    "plt.plot(Yt[0], Yt[1], marker='.', color='k', linestyle='None')\n",
    "\n",
    "\n",
    "def diff_motion_1e(y, atom, field, integration):\n",
    "    field.tf = field.period\n",
    "    yf = eqn_motion_1e(y, atom, field, integration)\n",
    "    return yf-y\n",
    "\n",
    "\n",
    "parameters = Integration(step=my_field.period/np.floor(my_field.period/(h_step/10)), precision=np.float64)\n",
    "Y0 = fsolve(diff_motion_1e, init_guess, args=(my_atom, my_field, parameters), xtol=1e-08, maxfev=30)\n",
    "my_field.tf = 1.001 * my_field.period\n",
    "Yt = eqn_motion_1e(Y0, my_atom, my_field, parameters, traj=True, output_times=np.linspace(0.0, my_field.tf, 500))\n",
    "\n",
    "plt.arrow(1.1, 0.7, -1.088, -0.654, width = 0.01, head_width=0.08)\n",
    "ax_inset = fig1.add_axes([0.53, 0.7, 0.2, 0.15])\n",
    "ax_inset.plot(Yt[0], Yt[1])\n",
    "ax_inset.set_xlabel('$y$')\n",
    "ax_inset.set_ylabel('$p_y$')\n",
    "plt.show()\n",
    "\n",
    "parameters = Integration(step=my_field.period/np.floor(my_field.period/h_step), precision=np.float64)\n",
    "Intensity_range = np.linspace(Imin, Imax, Number_of_intensities)\n",
    "pdata = []\n",
    "for intensity_element in Intensity_range:\n",
    "    my_field = Field(wavelength=Wavelength_in_nm, intensity=intensity_element)\n",
    "    my_field.tf = my_field.period\n",
    "    Yf, info, ier, msg = fsolve(diff_motion_1e, init_guess, args=(my_atom, my_field, parameters), xtol=1e-06, maxfev=30, full_output=True)\n",
    "    if ier == 1:\n",
    "        pval = Yf[1]\n",
    "        init_guess = Yf\n",
    "    else:\n",
    "        pval = np.nan\n",
    "    pdata = np.append(pdata, pval)\n",
    "\n",
    "plt.figure(figsize=(7.5,2.5))\n",
    "plt.plot(Intensity_range, pdata, linewidth=2, color='b')\n",
    "plt.xlabel('$I$ (W/cm$^2$)')\n",
    "plt.ylabel('$p_y$')\n",
    "plt.xlim([Imin, Imax])\n",
    "plt.ylim([-0.025, 0.02])\n",
    "plt.show()"
   ]
  },
  {
   "cell_type": "markdown",
   "metadata": {
    "colab_type": "text",
    "id": "t3A9MixjpU3V"
   },
   "source": [
    "## Nonsequential double ionization (NSDI)"
   ]
  },
  {
   "cell_type": "markdown",
   "metadata": {
    "colab_type": "text",
    "id": "SImPJbmBpfTq"
   },
   "source": [
    "As noted before, when the field is turned on, its action is concentrated on only one electron, the outer one, as a first step.  The field drives the outer electron away from the nucleus, leaving the inner electron nearly unaffected by the field because its position remains small. \n",
    "From the recollision process [2,3], the outer electron might come back close to the nucleus during the pulse plateau, if the field amplitude is not too large. In this case, it transfers a part of its energy to the inner electron through the electron-electron interaction term. \n",
    "From then on, two outcomes are possible: If the energy brought in by the outer electron is sufficient for the other electron to escape from the regular region (as in Fig. 3, upper panel), then it might ionize together with the outer electron. The maximum energy ${\\mathcal E}_x$ of the outer electron when it returns to the inner region (after having left the inner region with a small momentum $p_0$ close to zero) is obtained from Hamiltonian (2) and is\n",
    "${\\mathcal E}_x= \\kappa U_p$, where $U_p=E_0^2/(4\\omega^2)$ is the ponderomotive energy and $\\kappa\\approx 3.17$ is the maximum recollision kinetic energy in units of $U_p$ [2,37,38]. We complement the recollision scenario (which focuses on the outer electron) by providing the phase space picture of the inner electron: In order to ionize the core electron, the energy brought back by the outer electron has to be of order of the energy difference between the core ($y=0$) and the boundary of the stable region ($y=y_m$) of ${\\mathcal H}_2$ (see Fig. 4) which is equal to\n",
    "$$\n",
    "\\Delta {\\mathcal E}_y=2-\\frac{2}{\\sqrt{y_m^2+a^2}}. \\tag{4}\n",
    "$$\n",
    "A good approximation to $y_m=y_m(E_0)$ is given by the value where the potential is locally maximum, i.e. $E_0= 2y_m/(y_m^2+a^2)^{3/2}$.\n",
    "The equal-sharing relation which links the classical picture of the outer electron $x$ with the one of the inner electron $y$,\n",
    "$$\n",
    "\\Delta {\\mathcal E}_y=\\frac{{\\mathcal E}_x}{2}= \\frac{\\kappa}{2\\omega^2}\\frac{y_m^2}{(y_m^2+a^2)^3}, \\tag{5}\n",
    "$$\n",
    "defines (through an implicit equation) the expected value of the field $E_0^{(c)}$ for maximal NSDI, because it describes the case when each outer electron brings back enough energy to ionize the inner electron, while remaining ionized itself. However, fulfilling this energy requirement does not guarantee NSDI: The outcome depends on the number and efficiency of recollisions. The predicted value of the amplitude $E_0^{(c)}$ as given by Eq. (5) corresponds to an intensity $I^{(c)}$ given below which agrees very well with the simulations shown in Fig. 1.\n",
    "In a wide range of frequencies, an accurate expansion of $E_0^{(c)}$ is obtained from Eqs. (4)-(5) and given by\n",
    "$$\n",
    "E_0^{(c)}= \\frac{4\\omega}{\\sqrt{\\kappa}}-\\left(\\frac{2\\omega}{\\sqrt{\\kappa}} \\right)^{3/2}+O\\left(\\frac{4\\omega^2}{\\kappa}\\right), \\tag{6}\n",
    "$$\n",
    "for sufficiently small $\\omega$. To leading order the corresponding intensity varies as $\\omega^2$. The approximate intensity given by Eq. (6) is in excellent agreement with Fig. 1.\n",
    "When the field $E_0$ is too small, then the outer electron cannot gain enough energy to ionize the inner electron. When the field $E_0$ is too large, then the outer electron does not recollide since it leaves the interaction region nearly linearly. These two limits explain the bell shape of the resulting nonsequential double ionization probability, which, when put together with the monotonic rise of the SDI probability at higher intensities, adds up to the knee in question."
   ]
  },
  {
   "cell_type": "code",
   "execution_count": null,
   "metadata": {
    "colab": {
     "base_uri": "https://localhost:8080/",
     "height": 63
    },
    "colab_type": "code",
    "executionInfo": {
     "elapsed": 623755,
     "status": "ok",
     "timestamp": 1597743134703,
     "user": {
      "displayName": "Cristel Chandre",
      "photoUrl": "https://lh3.googleusercontent.com/a-/AOh14GiDuaMJBJyPVQYlNzXYWVH66FhPBipdSStoVltpeU0=s64",
      "userId": "10196882246576949447"
     },
     "user_tz": -120
    },
    "id": "Vrpwvue2ldeb",
    "jupyter": {
     "source_hidden": true
    },
    "outputId": "3cb8b67e-b35c-48aa-b3fe-06d9fb05c23c"
   },
   "outputs": [
    {
     "data": {
      "text/latex": [
       "$$I_0^{(c)} \\approx 4.6 \\times 10^{14}  ~{\\rm W / cm}^2 \\\\ I_c \\approx 2.1 \\times 10^{16}  ~{\\rm W / cm}^2$$"
      ],
      "text/plain": [
       "<IPython.core.display.Math object>"
      ]
     },
     "metadata": {
      "tags": []
     },
     "output_type": "display_data"
    }
   ],
   "source": [
    "#@title Numerical values of the critical intensities {display-mode: \"form\"}\n",
    "from IPython.display import display, Math, Latex\n",
    "\n",
    "\n",
    "def fexp(f):\n",
    "    return int(np.floor(np.log10(abs(f)))) if f != 0 else 0\n",
    "\n",
    "\n",
    "def fman(f):\n",
    "    return f/10**fexp(f)\n",
    "\n",
    "\n",
    "kappa = 3.17\n",
    "I0c = 3.51e16 * (4*my_field.frequency/np.sqrt(kappa)-(2*my_field.frequency/np.sqrt(kappa)) ** 1.5) **2\n",
    "I0_c = 3.51e16 * 16/(27*my_atom.a **4)\n",
    "display(Math(r'I_0^{{(c)}} \\approx {:.2} \\times 10^{{{}}}  ~{{\\rm W / cm}}^2 \\\\ I_c \\approx {:.2} \\times 10^{{{}}}  ~{{\\rm W / cm}}^2'.format(fman(I0c),fexp(I0c),fman(I0_c),fexp(I0_c))))"
   ]
  },
  {
   "cell_type": "markdown",
   "metadata": {
    "colab_type": "text",
    "id": "nmdn-GnL1LJD"
   },
   "source": [
    "\n",
    "\n",
    "---\n",
    "\n",
    "\n",
    "C. C. acknowledges financial support from the PICS\n",
    "program of the CNRS. This work is partially funded by\n",
    "NSF. We thank A. D. Bandrauk, W. Becker, and S. L. Haan\n",
    "for useful discussions.\n",
    "\n",
    "---\n",
    "\n",
    "\n",
    "## References\n",
    "\n",
    "[[1](http://link.aps.org/doi/10.1103/PhysRevLett.69.2642)] D. N. Fittinghoff, P. R. Bolton, B. Chang, and K. C.\n",
    "Kulander, Phys. Rev. Lett. 69, 2642 (1992).\n",
    "\n",
    "[[2](http://link.aps.org/doi/10.1103/PhysRevLett.71.1994)] P. B. Corkum, Phys. Rev. Lett. 71, 1994 (1993).\n",
    "\n",
    "[[3](http://link.aps.org/doi/10.1103/PhysRevLett.70.1599)] K. J. Schafer, B. Yang, L. F. DiMauro, and K. C. Kulander, Phys. Rev. Lett. 70, 1599 (1993).\n",
    "\n",
    "[[4](http://link.aps.org/doi/10.1103/PhysRevLett.73.1227)] B. Walker, B. Sheehy, L. F. DiMauro, P. Agostini, K. J.\n",
    "Schafer, and K. C. Kulander, Phys. Rev. Lett. 73, 1227\n",
    "(1994).\n",
    "\n",
    "[[5a](http://dx.doi.org/10.1088/0953-4075/29/6/005), [5b](http://dx.doi.org/10.1088/0953-4075/32/14/101)] A. Becker and F. H. M. Faisal, J. Phys. B 29, L197 (1996); J. Phys. B 32, L335 ( 1999).\n",
    "\n",
    "[[6](http://link.aps.org/doi/10.1103/PhysRevLett.85.3781)] R. Kopold, W. Becker, H. Rottke, and W. Sandner, Phys.\n",
    "Rev. Lett. 85, 3781 (2000).\n",
    "\n",
    "[[7](http://link.aps.org/doi/10.1103/PhysRevLett.85.4707)] M. Lein, E. K. U. Gross, and V. Engel, Phys. Rev. Lett. 85, 4707 (2000).\n",
    "\n",
    "[[8](http://link.aps.org/doi/10.1103/PhysRevA.63.043414)] K. Sacha and B. Eckhardt, Phys. Rev. A 63, 043414\n",
    "(2001).\n",
    "\n",
    "[[9](http://link.aps.org/doi/10.1103/PhysRevA.63.043416)] L.-B. Fu, J. Liu, J. Chen, and S.-G. Chen, Phys. Rev. A 63, 043416 (2001).\n",
    "\n",
    "[[10](https://doi.org/10.1364/OE.8.000431)] R. Panfili, J. H. Eberly, and S. L. Haan, Opt. Express 8, 431 (2001).\n",
    "\n",
    "[[11](http://link.aps.org/doi/10.1103/PhysRevLett.93.053201)] J. Colgan, M. S. Pindzola, and F. Robicheaux, Phys. Rev. Lett. 93, 053201 (2004).\n",
    "\n",
    "[[12](http://link.aps.org/doi/10.1103/PhysRevLett.94.093002)] P. J. Ho, R. Panfili, S. L. Haan, and J. H. Eberly, Phys. Rev. Lett. 94, 093002 (2005).\n",
    "\n",
    "[[13](http://link.aps.org/doi/10.1103/PhysRevLett.95.193002)] P. J. Ho and J. H. Eberly, Phys. Rev. Lett. 95, 193002\n",
    "(2005).\n",
    "\n",
    "[[14](http://link.aps.org/doi/10.1103/PhysRevLett.94.063002)] C. Ruiz, L. Plaja, and L. Roso, Phys. Rev. Lett. 94, 063002 (2005).\n",
    "\n",
    "[[15](http://link.aps.org/doi/10.1103/PhysRevA.76.030701)] D. A. Horner, F. Morales, T. N. Rescigno, F. Martin, and C.W. McCurdy, Phys. Rev. A 76, 030701(R) (2007).\n",
    "\n",
    "[[16](http://link.aps.org/doi/10.1103/PhysRevLett.98.203002)] J. S. Prauzner-Bechcicki, K. Sacha, B. Eckhardt, and\n",
    "J. Zakrzewski, Phys. Rev. Lett. 98, 203002 (2007).\n",
    "\n",
    "[[17](http://link.aps.org/doi/10.1103/PhysRevA.77.043420)] J. Feist, S. Nagele, R. Pazourek, E. Persson, B. I.\n",
    "Schneider, L.A. Collins, and J. Burgdörfer, Phys. Rev. A\n",
    "77, 043420 (2008).\n",
    "\n",
    "[[18](http://dx.doi.org/10.1140/epjd/e2003-00272-8)] I. F. Barna and J. M. Rost, Eur. Phys. J. D 27, 287 (2003).\n",
    "\n",
    "[[19](http://dx.doi.org/10.1038/nphys310)] W. A. Bryan, S. L. Stebbings, J. McKenna, E. M. L.\n",
    "English, M. Suresh, J. Wood, B. Srigengan, I. C. E.\n",
    "Turcu, J. M. Smith, and E. J. Divall et al., Nature Phys.\n",
    "2, 379 (2006).\n",
    "\n",
    "[[20](http://dx.doi.org/10.1038/35015033)] T. Weber, H. Giessen, M. Weckenbrock, G. Urbasch, A.\n",
    "Staudte, L. Spielberger, O. Jagutzki, V. Mergel, M.\n",
    "Vollmer, and R. Dörner, Nature (London) 405, 658 (2000).\n",
    "\n",
    "[[21](http://link.aps.org/doi/10.1103/PhysRevA.48.R2531)] K. Kondo, A. Sagisaka, T. Tamida, Y. Nabekawa, and S.\n",
    "Watanabe, Phys. Rev. A 48, R2531 (1993).\n",
    "\n",
    "[[22](http://dx.doi.org/10.1088/0953-4075/31/6/008)] S. Larochelle, A. Talebpour, and S. L. Chin, J. Phys. B 31, 1201 (1998).\n",
    "\n",
    "[[23](http://link.aps.org/doi/10.1103/PhysRevA.62.023403)] C. Cornaggia and P. Hering, Phys. Rev. A 62, 023403\n",
    "(2000).\n",
    "\n",
    "[[24](http://link.aps.org/doi/10.1103/PhysRevA.63.040701)] C. Guo and G. N. Gibson, Phys. Rev. A 63, 040701 (2001).\n",
    "\n",
    "[[25](http://link.aps.org/doi/10.1103/PhysRevLett.87.153001)] M. J. DeWitt, E. Wells, and R. R. Jones, Phys. Rev. Lett. 87, 153001 (2001).\n",
    "\n",
    "[[26](http://link.aps.org/doi/10.1103/PhysRevLett.92.203001)] J. Rudati, J. L. Chaloupka, P. Agostini, K. C. Kulander, and L. F. DiMauro, Phys. Rev. Lett. 92, 203001 (2004).\n",
    "\n",
    "[[27](http://link.aps.org/doi/10.1103/PhysRevLett.78.1884)] J. B. Watson, A. Sanpera, D. G. Lappas, P. L. Knight, and K. Burnett, Phys. Rev. Lett. 78, 1884 (1997).\n",
    "\n",
    "[[28](http://dx.doi.org/10.1088/0953-4075/31/6/001)] D. G. Lappas and R. van Leeuwen, J. Phys. B 31, L249\n",
    "(1998).\n",
    "\n",
    "[[29](http://link.aps.org/doi/10.1103/PhysRevA.67.043402)] R. Panfili and W.-C. Liu, Phys. Rev. A 67, 043402 (2003).\n",
    "\n",
    "[[30](http://link.aps.org/doi/10.1103/PhysRevLett.89.113001)] R. Panfili, S. L. Haan, and J. H. Eberly, Phys. Rev. Lett. 89, 113001 (2002).\n",
    "\n",
    "[[31](http://link.aps.org/doi/10.1103/PhysRevLett.99.013003)] J. Liu, D. F. Ye, J. Chen, and X. Liu, Phys. Rev. Lett. 99, 013003 (2007).\n",
    "\n",
    "[[32](http://link.aps.org/doi/10.1103/PhysRevA.44.5997)] Q. Su and J. H. Eberly, Phys. Rev. A 44, 5997 (1991).\n",
    "\n",
    "[[33](http://link.aps.org/doi/10.1103/PhysRevA.38.3430)] J. Javanainen, J. H. Eberly, and Q. Su, Phys. Rev. A 38, 3430 (1988).\n",
    "\n",
    "[[34](http://link.aps.org/doi/10.1103/PhysRevA.50.378)] S. L. Haan, R. Grobe, and J. H. Eberly, Phys. Rev. A 50, 378 (1994).\n",
    "\n",
    "[[35](http://chaosbook.org)] P. Cvitanovic, R. Artuso, R. Mainieri, G. Tanner, and G. Vattay, Chaos: Classical and Quantum (Niels Bohr\n",
    "Institute, Copenhagen, 2008).\n",
    "\n",
    "[[36](http://link.aps.org/doi/10.1103/PhysRevA.74.043417)] E. Shchekinova, C. Chandre, and T. Uzer, Phys. Rev. A 74, 043417 (2006).\n",
    "\n",
    "[[37](http://link.aps.org/doi/10.1103/PhysRevA.50.1540)] W. Becker, S. Long, and J. K. McIver, Phys. Rev. A 50,\n",
    "1540 (1994).\n",
    "\n",
    "[[38](http://dx.doi.org/10.1080/09500340410001729582)] A. D. Bandrauk, S. Chelkowski, and S. Goudreau, J. Mod.\n",
    "Opt. 52, 411 (2005).\n",
    "\n",
    "\n"
   ]
  }
 ],
 "metadata": {
  "colab": {
   "collapsed_sections": [],
   "name": "Notebook_Article.ipynb",
   "provenance": []
  },
  "kernelspec": {
   "display_name": "Python 3",
   "language": "python",
   "name": "python3"
  },
  "language_info": {
   "codemirror_mode": {
    "name": "ipython",
    "version": 3
   },
   "file_extension": ".py",
   "mimetype": "text/x-python",
   "name": "python",
   "nbconvert_exporter": "python",
   "pygments_lexer": "ipython3",
   "version": "3.8.5"
  }
 },
 "nbformat": 4,
 "nbformat_minor": 4
}

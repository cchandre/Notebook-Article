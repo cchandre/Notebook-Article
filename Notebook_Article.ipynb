{
 "cells": [
  {
   "cell_type": "markdown",
   "metadata": {
    "colab_type": "text",
    "id": "xWIFGXHIS5W0"
   },
   "source": [
    "# Notebook article: *Strong field double ionization : The phase space perspective*\n",
    "\n",
    "---\n",
    "\n",
    "> Authors: [Cristel Chandre](https://orcid.org/0000-0003-3667-259X) and [Jonathan Dubois](https://orcid.org/0000-0002-6976-5488)\n",
    "\n",
    "based on [[F. Mauger, C. Chandre, T. Uzer, *Strong field double ionization: The phase space perspective*, Physical Review Letters 102, 173002 (2009)](https://dx.doi.org/10.1103/PhysRevLett.102.173002)]\n",
    "\n",
    "*Abstract*: We identify the phase-space structures that regulate atomic double ionization in strong ultrashort laser pulses. The emerging dynamical picture complements the recollision scenario by clarifying the distinct roles played by the recolliding and core electrons, and leads to verifiable predictions on the characteristic features of the \"knee\", a hallmark of the nonsequential process.\n",
    "\n",
    "*Last modified:* 2020-10-26 14:06:21 "
   ]
  },
  {
   "cell_type": "markdown",
   "metadata": {
    "colab_type": "text",
    "id": "LHRGS7oyT2yy"
   },
   "source": [
    "## Introduction\n",
    "One of the most striking surprises of recent years in intense laser-matter interactions has come from multiple ionization by intense short laser pulses:  Correlated (nonsequential) double ionization rates were found to be \n",
    "several orders of magnitude higher than the uncorrelated sequential mechanism allows. This discrepancy has made the characteristic \"knee\" shape in the \n",
    "double ionization yield versus intensity plot into one of the most dramatic manifestations of electron-electron correlation in nature. The precise mechanism that makes correlation so effective is far from settled. Different scenarios have been proposed to explain the mechanism behind ionization [1-18] and have been confronted with experiments [19,20], the recollision scenario [2,3], in which the ionized electron is hurled back at the ion core by the laser, being in best accord with experiments. In Fig. 1, a typical double ionization probability as a function of the intensity of the laser field is plotted. Similar knees have been observed in experimental data [1,4,20-26] and successfully reproduced by quantal computations on atoms and molecules [5,27-29]. In a recent series of articles [8,9,12,13,29-31] characteristic features of double ionization were reproduced using classical trajectories and this success was ascribed to the paramount role of correlation [12]. Indeed, entirely classical interactions turn out to be adequate to generate the strong two-electron correlation needed for double ionization. \n",
    "\n",
    "In this Letter, we complement the well-known recollision scenario by identifying the organizing principles which explain the statistical properties of the classical trajectories such as ionization probabilities. In addition to the dynamical picture of the ionized electron provided by the recollision scenario, we connect the dynamics of the core electron and the energy flow leading to double ionization to relevant phase space structures (periodic orbits or invariant tori). The resulting picture leads to two verifiable predictions for key points which make up the knee in Fig. 1: namely the laser intensity where nonsequential double ionization is maximal and the intensity where the double ionization is complete. Of course, the saturation intensity emerges naturally in quantum mechanical calculations (e.g., Refs. [5,28]) provided they cover a wide enough intensity range."
   ]
  },
  {
   "cell_type": "markdown",
   "metadata": {
    "colab_type": "text",
    "id": "j0_CCzPWUyaQ"
   },
   "source": [
    "## Hamiltonian model\n",
    "We work with the classical Hamiltonian model of the helium atom with soft Coulomb potentials [32,33]. The Hamiltonian is given by [10]:\n",
    "$$\n",
    "{\\mathcal H}(x,y,p_{x}, p_{y},t) =  \\frac{p_{x}^{2}}{2} + \\frac{ \n",
    "p_{y}^{2}}{2}+(x+y)E(t) + \\frac{1}{\\sqrt{(x-y)^{2}+b^2}} - \\frac{2}{\\sqrt{x^{2}+a^2}} - \\frac{2}{\\sqrt{y^{2}+a^2}}, \\tag{1}$$\n",
    "\n",
    "where $x$, $y$ and $p_{x}$, $p_{y}$ are the positions and \n",
    "(canonically conjugate) momenta of each electron respectively. The energy is initially fixed at the ground state ${\\cal E}_g$ [34].\n",
    "The laser field is modeled by a sinusoidal pulse with an envelope, i.e. \n",
    "$E(t)= E_{0} \\ f(t) \\ \\sin \\omega t$ where $E_{0}$ is the maximum amplitude and $\\omega=2\\pi/\\lambda$ the laser frequency. The \n",
    "pulse envelope $f(t)$ is chosen as a trapezoidal function with two laser cycle ramp-up and two laser cycle ramp-down [12,13,29,30]. \n",
    "Typical ionizing trajectories of Hamiltonian (1) show two \n",
    "qualitatively different routes to double ionization: \n",
    "nonsequential double ionization (NSDI), where the two electrons leave \n",
    "the core (inner) region at about the same time, and sequential double \n",
    "ionization (SDI), where one electron leaves the inner region long time \n",
    "after the other one has ionized.\n",
    "\n",
    "<div class=\"alert alert-block alert-info\">\n",
    "    The following cell defines the widgets for the parameters of the atom (energy of the ground state  $\\mathcal{E}_g$ and softening parameters $a$, $b$, where $4  < 2 | \\mathcal{E}_g | a < 3\\sqrt{3}$) and the parameters of the laser field (wavelength $\\lambda$, intensity $I$ and pulse duration in laser cycles $t_d$) used throughout this notebook. The default values of the sliders are the default parameters. \n",
    "</div>"
   ]
  },
  {
   "cell_type": "code",
   "execution_count": 1,
   "metadata": {
    "colab": {},
    "colab_type": "code",
    "hide_input": true,
    "id": "h7HjIrBNKv2m",
    "jupyter": {
     "source_hidden": true
    },
    "tags": [
     "hide-input"
    ]
   },
   "outputs": [
    {
     "name": "stdout",
     "output_type": "stream",
     "text": [
      "\u001b[1m Parameters of the atom:\n"
     ]
    },
    {
     "data": {
      "application/vnd.jupyter.widget-view+json": {
       "model_id": "e9ed29ef4a1c4f2abb62e64c8f0f1764",
       "version_major": 2,
       "version_minor": 0
      },
      "text/plain": [
       "FloatSlider(value=1.0, description='$a$ (a.u.)', max=10.0)"
      ]
     },
     "metadata": {},
     "output_type": "display_data"
    },
    {
     "data": {
      "application/vnd.jupyter.widget-view+json": {
       "model_id": "69efcd7d2cf34629892ef24532f8a297",
       "version_major": 2,
       "version_minor": 0
      },
      "text/plain": [
       "FloatSlider(value=1.0, description='$b$ (a.u.)', max=10.0)"
      ]
     },
     "metadata": {},
     "output_type": "display_data"
    },
    {
     "data": {
      "application/vnd.jupyter.widget-view+json": {
       "model_id": "925f3495a7d54cbfa919f009f3dc69b2",
       "version_major": 2,
       "version_minor": 0
      },
      "text/plain": [
       "FloatSlider(value=-2.24, description='$\\\\mathcal{E}_g$ (a.u.)', max=0.0, min=-3.0, step=0.01)"
      ]
     },
     "metadata": {},
     "output_type": "display_data"
    },
    {
     "name": "stdout",
     "output_type": "stream",
     "text": [
      "\u001b[1m Parameters of the laser field:\n"
     ]
    },
    {
     "data": {
      "application/vnd.jupyter.widget-view+json": {
       "model_id": "b4b62d72cbaf427695da98022aa7356e",
       "version_major": 2,
       "version_minor": 0
      },
      "text/plain": [
       "FloatLogSlider(value=5000000000000000.0, description='$I$ ($\\\\mathrm{W}/\\\\mathrm{cm}^2$)', max=18.0, min=10.0,…"
      ]
     },
     "metadata": {},
     "output_type": "display_data"
    },
    {
     "data": {
      "application/vnd.jupyter.widget-view+json": {
       "model_id": "f25cfc27a69a4731bfa8ccdb7e82f76e",
       "version_major": 2,
       "version_minor": 0
      },
      "text/plain": [
       "IntSlider(value=780, description='$\\\\lambda$ (nm)', max=1600, step=20)"
      ]
     },
     "metadata": {},
     "output_type": "display_data"
    },
    {
     "data": {
      "application/vnd.jupyter.widget-view+json": {
       "model_id": "4952c8461af64cb996ab441f44c0eb46",
       "version_major": 2,
       "version_minor": 0
      },
      "text/plain": [
       "IntSlider(value=8, description='$t_d$ (l.c.)', max=30, min=4)"
      ]
     },
     "metadata": {},
     "output_type": "display_data"
    }
   ],
   "source": [
    "from IPython.display import display, clear_output, Math, Latex\n",
    "from ipywidgets import interact, interactive, fixed, interact_manual\n",
    "import ipywidgets as widgets\n",
    "import matplotlib.pyplot as plt\n",
    "import numpy as np\n",
    "import math\n",
    "import time\n",
    "from scipy.optimize import fsolve, fmin\n",
    "import warnings\n",
    "warnings.filterwarnings('ignore', 'The iteration is not making good progress') \n",
    "\n",
    "## Parameters widgets\n",
    "w_a = widgets.FloatSlider(min=0.0, max=10.0, step=0.1, value=1.0, description='$a$ (a.u.)')\n",
    "w_b = widgets.FloatSlider(min=0.0, max=10.0,step=0.1,value=1.0,description='$b$ (a.u.)')\n",
    "w_Eg = widgets.FloatSlider(min=-3.0, max=0.0, step=0.01, value=-2.24, description='$\\mathcal{E}_g$ (a.u.)')\n",
    "w_Intensity = widgets.FloatLogSlider(value=5e15, base=10, min=10, max=18, step=0.01, description='$I$ ($\\mathrm{W}/\\mathrm{cm}^2$)')\n",
    "w_lambda_nm = widgets.IntSlider(min=0, max=1600, step=20, value=780, description='$\\lambda$ (nm)')\n",
    "w_tau_lc = widgets.IntSlider(min=4 ,max=30, step=1, value=8, description='$t_d$ (l.c.)')\n",
    "\n",
    "print('\\033[1m','Parameters of the atom:')\n",
    "display(w_a)\n",
    "display(w_b)\n",
    "display(w_Eg)\n",
    "\n",
    "print('\\033[1m','Parameters of the laser field:')\n",
    "display(w_Intensity)\n",
    "display(w_lambda_nm)\n",
    "display(w_tau_lc)\n",
    "\n",
    "## Classes\n",
    "class Atom:\n",
    "    def __init__(self, a, b, ground_state_energy, size=5.0, thresh=100):\n",
    "        self.a = a\n",
    "        self.b = b\n",
    "        self.a2 = a ** 2\n",
    "        self.b2 = b ** 2\n",
    "        self.E = ground_state_energy\n",
    "        self.size = size\n",
    "        self.thresh = thresh\n",
    "\n",
    "\n",
    "class Field:\n",
    "    def __init__(self, wavelength, intensity=[], envelope=[], params_envelop=[]):\n",
    "        self.wavelength = wavelength\n",
    "        self.frequency = 45.597 / wavelength\n",
    "        self.period = 2.0 * np.pi / self.frequency\n",
    "        self.intensity = intensity\n",
    "        self.amplitude = 5.338e-9 * np.sqrt(self.intensity)\n",
    "        self.envelope = envelope\n",
    "        self.params = params_envelop\n",
    "        self.times = np.cumsum(self.params)\n",
    "\n",
    "\n",
    "class Integration:\n",
    "    def __init__(self, step, t_f, N=1, precision=np.float32):\n",
    "        self.t_f = t_f\n",
    "        self.N = N\n",
    "        self.h = step\n",
    "        self.precision = precision\n",
    "\n",
    "        \n",
    "## Functions\n",
    "def trapezoidal(t, field):\n",
    "    tau = t / field.period\n",
    "    if tau < field.times[0]:\n",
    "        return tau / field.times[0]\n",
    "    elif field.times[0] <= tau <= field.times[1]:\n",
    "        return 1.0\n",
    "    elif field.times[1] < tau < field.times[2]:\n",
    "        return (field.times[2] - tau) / field.params[2]\n",
    "    else:\n",
    "        return 0.0\n",
    "\n",
    "\n",
    "def potential_2e(x, atom, is_deriv=False):\n",
    "    r12 = x[0, ] - x[1, ]\n",
    "    if is_deriv:\n",
    "        dv_dt = 2.0 * x / np.power(x ** 2 + atom.a2, 1.5)\n",
    "        rho12 = r12 / np.power(r12 ** 2 + atom.b2, 1.5)\n",
    "        dv_dt[0, ] -= rho12\n",
    "        dv_dt[1, ] += rho12\n",
    "        return dv_dt\n",
    "    else:\n",
    "        return - 2.0 / np.sqrt(x[0, ] ** 2 + atom.a2) - 2.0 / np.sqrt(x[1, ] ** 2 + atom.a2) \\\n",
    "               + 1.0 / np.sqrt(r12 ** 2 + atom.b2)\n",
    "\n",
    "\n",
    "def potential_1e(x, atom, is_deriv=False):\n",
    "    if is_deriv:\n",
    "        return 2.0 * x / np.power(x ** 2 + atom.a2, 1.5)\n",
    "    else:\n",
    "        return - 2.0 / np.sqrt(x ** 2 + atom.a2) \n",
    "\n",
    "\n",
    "def generate_initial_conditions(atom, integration):\n",
    "    yf = np.empty((4, 0))\n",
    "    nt = 0\n",
    "    while nt <= integration.N - 1:\n",
    "        x_rand = 2.0 * atom.size * np.random.random((2, integration.N)).astype(integration.precision) \\\n",
    "                 - atom.size\n",
    "        values_potential = potential_2e(x_rand, atom)\n",
    "        index = (values_potential >= atom.E)\n",
    "        x_rand = x_rand[:, np.logical_not(index)]\n",
    "        values_potential = values_potential[np.logical_not(index)]\n",
    "        length_valid = len(values_potential)\n",
    "        p_rand = 2.0 * np.random.random((2, length_valid)).astype(integration.precision) - 1.0\n",
    "        p_rand *= np.sqrt(2.0 * (atom.E - values_potential))\n",
    "        nt += length_valid\n",
    "        y = np.concatenate([x_rand, p_rand], axis=0)\n",
    "        yf = np.concatenate([yf, y], axis=1)\n",
    "    return integration.precision(yf[:4, :integration.N])\n",
    "\n",
    "\n",
    "def eqn_motion_2e(x, atom, field, integration, traj=False, output_times=[], Jacobian=False, matrix_J=np.array([])):\n",
    "    t = 0.0\n",
    "    xf = x.copy()\n",
    "    if Jacobian==False:\n",
    "        xt = np.empty((4,0))\n",
    "        if traj:\n",
    "            n_output = np.rint(output_times / integration.h)\n",
    "            if 0 in n_output:\n",
    "                xt = x.copy().reshape((4,-1))\n",
    "        n_index = 1\n",
    "        while t <= integration.t_f:\n",
    "            e0_eff = field.amplitude * field.envelope(t, field) * np.sin(field.frequency * t)\n",
    "            xf[:2] += integration.h * 0.5 * xf[2:]\n",
    "            xf[2:] -= integration.h * (potential_2e(xf[:2], atom, is_deriv=True) + e0_eff)\n",
    "            xf[:2] += integration.h * 0.5 * xf[2:]\n",
    "            if traj and (n_index in n_output):\n",
    "                xt = np.hstack((xt, xf.reshape(4,-1)))\n",
    "            t += integration.h\n",
    "            n_index += 1\n",
    "        if traj:\n",
    "            return xt\n",
    "        else:\n",
    "            return xf\n",
    "    if Jacobian==True:\n",
    "        if matrix_J.size==0:\n",
    "            J = np.identity(4).reshape(-1)\n",
    "            J = np.repeat(J[:,np.newaxis], parameters.N, axis=1)\n",
    "        else:\n",
    "            J = matrix_J\n",
    "        Jf = J.copy()\n",
    "        while t <= integration.t_f:\n",
    "            e0_eff = field.amplitude * field.envelope(t, field) * np.sin(field.frequency * t)\n",
    "            xf[:2] += integration.h * 0.5 * xf[2:]\n",
    "            xf[2:] -= integration.h * (potential_2e(xf[:2], atom, is_deriv=True) + e0_eff)\n",
    "            Vxx = 2.0 * (atom.a2 - 2.0 * xf[0] ** 2) / np.power(xf[0] ** 2 + atom.a2, 2.5) - (atom.b2 - 2.0 * (xf[0]-xf[1]) ** 2) / np.power((xf[0]-xf[1]) ** 2 + atom.b2, 2.5)\n",
    "            Vyy = 2.0 * (atom.a2 - 2.0 * xf[1] ** 2) / np.power(xf[1] ** 2 + atom.a2, 2.5) - (atom.b2 - 2.0 * (xf[0]-xf[1]) ** 2) / np.power((xf[0]-xf[1]) ** 2 + atom.b2, 2.5)\n",
    "            Vxy = (atom.b2 - 2.0 * (xf[0]-xf[1]) ** 2) / np.power((xf[0]-xf[1]) ** 2 + atom.b2, 2.5)\n",
    "            xf[:2] += integration.h * 0.5 * xf[2:]\n",
    "            Jf[0:13:4] = (1.0 - integration.h ** 2 * 0.5 * Vxx) * J[0:13:4] - integration.h ** 2 * 0.5 * Vxy * J[1:14:4] + integration.h * ((1.0 - 0.25 * integration.h ** 2 * Vxx) * J[2:15:4] - 0.25 * integration.h ** 2 * Vxy * J[3:16:4])\n",
    "            Jf[1:14:4] = (1.0 - integration.h ** 2 * 0.5 * Vyy) * J[1:14:4] - integration.h ** 2 * 0.5 * Vxy * J[0:13:4] + integration.h * ((1.0 - 0.25 * integration.h ** 2 * Vyy) * J[3:16:4] - 0.25 * integration.h ** 2 * Vxy * J[2:15:4])\n",
    "            Jf[2:15:4] = - integration.h * Vxx * J[0:13:4] - integration.h * Vxy * J[1:14:4] + (1.0 - integration.h ** 2 * 0.5 * Vxx) * J[2:15:4] - integration.h ** 2 * 0.5 * Vxy * J[3:16:4]\n",
    "            Jf[3:16:4] = - integration.h * Vyy * J[1:14:4] - integration.h * Vxy * J[0:13:4] + (1.0 - integration.h ** 2 * 0.5 * Vyy) * J[3:16:4] - integration.h ** 2 * 0.5 * Vxy * J[2:15:4]\n",
    "            J = Jf.copy()\n",
    "            t += integration.h\n",
    "        return xf, Jf\n",
    "    \n",
    "    \n",
    "def eqn_motion_2e_section(x, atom, integration, output_times=[]):\n",
    "    t = 0.0\n",
    "    eps = 1.0e-14\n",
    "    xf = x.copy()\n",
    "    gc, sc = Poincare_section(xf) \n",
    "    h = integration.h\n",
    "    while t <= integration.t_f:\n",
    "        xf[:2] += h * 0.5 * xf[2:]\n",
    "        xf[2:] -= h * potential_2e(xf[:2], atom, is_deriv=True)\n",
    "        xf[:2] += h * 0.5 * xf[2:]    \n",
    "        t += h\n",
    "        gf, sc = Poincare_section(xf)\n",
    "        if np.abs(gf) < eps:\n",
    "            return t, xf\n",
    "        if (gc * gf < 0) & (gc * h * sc > 0):\n",
    "            h *= - 0.1\n",
    "        gc = gf\n",
    "    return t, xf\n",
    "\n",
    "\n",
    "def Poincare_section(y):\n",
    "    return y[2], 1.0 \n",
    "\n",
    "\n",
    "def eqn_motion_1e(y, atom, field, integration, traj=False, output_times=[]):\n",
    "    t = 0.0\n",
    "    yf = y.copy()\n",
    "    yt = np.empty((2,0))\n",
    "    if traj:\n",
    "        n_output = np.rint(output_times / integration.h)\n",
    "        if 0 in n_output:\n",
    "            yt = y.copy().reshape((2,-1))\n",
    "    n_index = 0\n",
    "    while t <= integration.t_f:\n",
    "        e0_eff = field.amplitude * np.sin(field.frequency * t)\n",
    "        yf[0] += integration.h * 0.5 * yf[1]\n",
    "        yf[1] -= integration.h * (potential_1e(yf[0], atom, is_deriv=True) + e0_eff)\n",
    "        yf[0] += integration.h * 0.5 * yf[1]\n",
    "        if traj and (n_index in n_output):\n",
    "                yt = np.hstack((yt, yf.reshape(2,-1)))\n",
    "        t += integration.h\n",
    "        n_index += 1\n",
    "    if traj:\n",
    "        return yt\n",
    "    else:\n",
    "        return yf\n",
    "    \n",
    "envelope_name = trapezoidal"
   ]
  },
  {
   "cell_type": "markdown",
   "metadata": {
    "colab_type": "text",
    "id": "N-KhVyKVXpY0"
   },
   "source": [
    "## Figure 1: Double ionization (DI) probability for Hamiltonian (1) as a function of the intensity of the field $I$.\n",
    "<div class=\"alert alert-block alert-info\">\n",
    "    The double ionization probability curve for Hamiltonian (1) is computed by counting, for each intensity, the percentage of trajectories which undergo a double ionization. The set of trajectories we use is initiated using a microcanonical distribution.\n",
    "<br> <em>Default parameters: $a=1$, $b=1$, ${\\cal E}_g=-2.24$, $\\lambda=780\\; \\mathrm{nm}$, pulse duration $t_d = 8 \\; \\mathrm{l.c.}$, intensity range: $I_{\\min} = 3\\times 10^{13} \\; \\mathrm{W}/\\mathrm{cm}^2$ and $I_{\\max} = 5\\times 10^{16} \\; \\mathrm{W}/\\mathrm{cm}^2$, number of intensities $N_I = 20$ and $5\\times 10^4$ trajectories per intensity. Typical execution time: 6 minutes.</em>\n",
    "   </div>"
   ]
  },
  {
   "cell_type": "code",
   "execution_count": 2,
   "metadata": {
    "hide_input": false,
    "tags": [
     "hide-input"
    ]
   },
   "outputs": [
    {
     "name": "stdout",
     "output_type": "stream",
     "text": [
      "\u001b[1m Intensity range for the laser field:\n"
     ]
    },
    {
     "data": {
      "application/vnd.jupyter.widget-view+json": {
       "model_id": "b799a17c916442c7832020e73d0a6a69",
       "version_major": 2,
       "version_minor": 0
      },
      "text/plain": [
       "FloatLogSlider(value=30000000000000.0, description='$I_{\\\\mathrm{min}}$ (W/cm$^2$)', max=18.0, min=10.0, step=…"
      ]
     },
     "metadata": {},
     "output_type": "display_data"
    },
    {
     "data": {
      "application/vnd.jupyter.widget-view+json": {
       "model_id": "b77e453a359841019c8db6a7d5651fe9",
       "version_major": 2,
       "version_minor": 0
      },
      "text/plain": [
       "FloatLogSlider(value=5e+16, description='$I_{\\\\mathrm{max}}$ (W/cm$^2$)', max=18.0, min=10.0, step=0.2)"
      ]
     },
     "metadata": {},
     "output_type": "display_data"
    },
    {
     "data": {
      "application/vnd.jupyter.widget-view+json": {
       "model_id": "dc613b9d375c4c339359c5e9ce154aa0",
       "version_major": 2,
       "version_minor": 0
      },
      "text/plain": [
       "IntSlider(value=20, description='$N_I$', max=50, min=5, step=5)"
      ]
     },
     "metadata": {},
     "output_type": "display_data"
    }
   ],
   "source": [
    "w_Imin = widgets.FloatLogSlider(value=3e13, base=10, min=10, max=18, step=0.2, description='$I_{\\mathrm{min}}$ (W/cm$^2$)')\n",
    "w_Imax = widgets.FloatLogSlider(value=5e16, base=10, min=10, max=18, step=0.2, description='$I_{\\mathrm{max}}$ (W/cm$^2$)')\n",
    "w_Nintensity = widgets.IntSlider(value=20, min=5, max=50, step=5, description='$N_I$')\n",
    "\n",
    "print('\\033[1m','Intensity range for the laser field:')\n",
    "display(w_Imin)\n",
    "display(w_Imax)\n",
    "display(w_Nintensity)"
   ]
  },
  {
   "cell_type": "code",
   "execution_count": 3,
   "metadata": {
    "colab": {
     "base_uri": "https://localhost:8080/",
     "height": 869
    },
    "colab_type": "code",
    "executionInfo": {
     "elapsed": 553082,
     "status": "ok",
     "timestamp": 1597743064020,
     "user": {
      "displayName": "Cristel Chandre",
      "photoUrl": "https://lh3.googleusercontent.com/a-/AOh14GiDuaMJBJyPVQYlNzXYWVH66FhPBipdSStoVltpeU0=s64",
      "userId": "10196882246576949447"
     },
     "user_tz": -120
    },
    "id": "dEQd3avTZoL6",
    "outputId": "c4565b1b-289f-4a4b-9ca5-86a569d55750",
    "tags": [
     "hide-input"
    ]
   },
   "outputs": [
    {
     "name": "stdout",
     "output_type": "stream",
     "text": [
      "     Intensity (W/cm2)        DI Probability           CPU time (seconds)   \n",
      "____________________________________________________________________________\n",
      "     3.00e+13                 0.0000                   44                    \n",
      "     4.43e+13                 0.0004                   44                    \n",
      "     6.55e+13                 0.0016                   44                    \n",
      "     9.68e+13                 0.0047                   44                    \n",
      "     1.43e+14                 0.0118                   43                    \n",
      "     2.11e+14                 0.0232                   38                    \n",
      "     3.12e+14                 0.0330                   20                    \n",
      "     4.61e+14                 0.0414                   14                    \n",
      "     6.82e+14                 0.0421                   11                    \n",
      "     1.01e+15                 0.0440                   11                    \n",
      "     1.49e+15                 0.0433                   11                    \n",
      "     2.20e+15                 0.0490                   11                    \n",
      "     3.25e+15                 0.0549                   10                    \n",
      "     4.80e+15                 0.0823                   9                    \n",
      "     7.10e+15                 0.1471                   6                    \n",
      "     1.05e+16                 0.2943                   4                    \n",
      "     1.55e+16                 0.6457                   2                    \n",
      "     2.29e+16                 0.9251                   1                    \n",
      "     3.38e+16                 0.9444                   1                    \n",
      "     5.00e+16                 0.9471                   1                    \n",
      "____________________________________________________________________________\n"
     ]
    },
    {
     "data": {
      "image/png": "[encoded data removed]",
      "text/plain": [
       "<Figure size 684x540 with 1 Axes>"
      ]
     },
     "metadata": {
      "needs_background": "light"
     },
     "output_type": "display_data"
    }
   ],
   "source": [
    "I_min = w_Imin.value\n",
    "I_max = w_Imax.value\n",
    "Number_of_Intensities =  w_Nintensity.value\n",
    "N = 50000\n",
    "h_step = 0.05\n",
    "\n",
    "my_atom = Atom(a=w_a.value, b=w_b.value, ground_state_energy=w_Eg.value)\n",
    "params_envelop = (2, w_tau_lc.value-4, 2, 2)\n",
    "my_field = Field(wavelength=w_lambda_nm.value, intensity=[], envelope=envelope_name, params_envelop=params_envelop)\n",
    "parameters = Integration(N=N, step=h_step, t_f=np.sum(my_field.params) * my_field.period)\n",
    "\n",
    "print(\"     Intensity (W/cm2)        DI Probability           CPU time (seconds)   \")\n",
    "print(\"____________________________________________________________________________\")\n",
    "Intensities = 10 ** np.linspace(np.log10(I_min), np.log10(I_max), Number_of_Intensities)\n",
    "proba_di = np.zeros(Number_of_Intensities)\n",
    "for it in range(Number_of_Intensities):\n",
    "    X0 = generate_initial_conditions(my_atom, parameters)\n",
    "    my_field = Field(wavelength=w_lambda_nm.value, intensity=Intensities[it], envelope=envelope_name, params_envelop=params_envelop)\n",
    "    start_di = time.time()\n",
    "    Xf = eqn_motion_2e(X0, my_atom, my_field, parameters)\n",
    "    cond_di = (np.abs(Xf[0]) >= my_atom.thresh) & (np.abs(Xf[1]) >= my_atom.thresh)\n",
    "    proba_di[it] = float(np.count_nonzero(cond_di) / parameters.N)\n",
    "    end_di = time.time()\n",
    "    print(\"     {:.2e}                 {:.4f}                   {}                    \".format(Intensities[it], proba_di[it], int(np.rint(end_di-start_di))))\n",
    "    if proba_di[it] == 0:\n",
    "        parameters.N = N\n",
    "    else:\n",
    "        parameters.N = min(N, int(np.floor(N/100/proba_di[it])))\n",
    "print(\"____________________________________________________________________________\")\n",
    "\n",
    "plt.figure(figsize=(9.5,7.5))\n",
    "plt.xlabel('$I$ (W/cm$^2$)')\n",
    "plt.ylabel('Probability')\n",
    "plt.loglog(Intensities, proba_di, marker='o', color='r', linestyle='None', label='Double ionization')\n",
    "plt.show()"
   ]
  },
  {
   "cell_type": "markdown",
   "metadata": {
    "colab_type": "text",
    "id": "TMqkUQmSkmoN"
   },
   "source": [
    "## Dynamics without the field\n",
    "We first analyze the dynamics of Hamiltonian (1) without the field ($E_0=0$) using linear stability properties such as obtained by the finite-time Lyapunov (FTL) exponents [35,36]. With each initial condition on a plane [e.g., $(x,p_x)$ with $y=0$, and $p_y$ determined by ${\\mathcal H}={\\mathcal E}_g$ on Fig. 2] for Hamiltonian (1), we associate a coefficient which quantifies the degree of chaos experienced by the trajectory up to a given time. \n",
    "A typical FTL map is depicted in Fig. 2 \n",
    "for Hamiltonian (1) without the field. It clearly displays strong and global chaos by showing fine details of the \n",
    "stretching and folding of trajectories [35]. In particular, there are no regular elliptic islands of stability contrary to what is common with Hamiltonian systems on a bounded energy manifold. By examining typical trajectories, we notice that the motion of the two electrons tracks, at different times, one of four hyperbolic periodic orbits. Their period is 29 a.u., i.e., much shorter than the duration of the laser pulse (of order 800 a.u.). The projections of two of them, $O_1$ and $O_2$, on the $(x,p_x)$ plane, are displayed in Fig. 2. The two other ones are obtained from $O_1$ and $O_2$ using the symmetries of Hamiltonian (1). In particular, if one electron is on the inner curve in $(x,p_x)$, the second electron is on the outer curve in $(y,p_y)$. Consequently, a typical two-electron trajectory is composed of one electron close to the nucleus (the \"inner\" electron, in blue) and another further away (the \"outer\" electron, in red), with quick exchanges of the roles of each electron. This distinction is crucial when the laser field is turned on: Since the contribution of the field-electron interaction to Hamiltonian (1) is proportional to the position, the action of the field is larger for the outer electron, while the inner electron is mainly driven by the interaction with the \n",
    "nucleus. "
   ]
  },
  {
   "cell_type": "markdown",
   "metadata": {
    "colab_type": "text",
    "id": "hwRzF7uhlgXZ"
   },
   "source": [
    "## Figure 2: FTL map of Hamiltonian (1) without the field\n",
    "\n",
    "<div class=\"alert alert-block alert-info\"> The Finite-Time Lyapunov (FTL) exponent is given by $\\mu = \\log (\\max |\\lambda|)/t_f$, where $\\lambda$ are the eigenvalues of the tangent flow $\\mathbb{J}$ of Hamiltonian (1) and $t_f$ is the integration time. The equations of motion for the tangent flow are given by $\\dot{\\mathbb{J}} = \\mathbb{A} \\mathbb{J}$, with $A_{ij} = \\partial \\dot{z_i}  / \\partial z_j$, where $\\mathbf{z} = (x,y,p_x,p_y)$. The values of the FTL exponents are represented for initial conditions in the plane $(x,p_{x})$ with $y=0$.\n",
    "    The periodic orbit without the field is determined using a Poincaré section $p_x=0$. The projection $(x,p_x)$ of the periodic orbit is in red and the projection $(y,p_y)$ is in blue.\n",
    "There is the possibility to visualize the values of the FTL map in real time.\n",
    "<br> <em> Default parameters: $a=1$, $b=1$, ${\\cal E}_g=-2.24$, animation display: false, $t_f=43$ a.u., resolution $256$, range in $x$: $[-4.5,4.5]$, range in $p_x$: $[-1.5,1.5]$. Typical execution time: 13 seconds.</em> </div>"
   ]
  },
  {
   "cell_type": "code",
   "execution_count": 4,
   "metadata": {
    "jupyter": {
     "source_hidden": true
    },
    "tags": [
     "hide-input"
    ]
   },
   "outputs": [
    {
     "data": {
      "application/vnd.jupyter.widget-view+json": {
       "model_id": "eb02e5d68d15466fa4911ae1b06062ff",
       "version_major": 2,
       "version_minor": 0
      },
      "text/plain": [
       "Checkbox(value=False, description='Animation')"
      ]
     },
     "metadata": {},
     "output_type": "display_data"
    },
    {
     "data": {
      "application/vnd.jupyter.widget-view+json": {
       "model_id": "58459891e82b4206ae80213db1942268",
       "version_major": 2,
       "version_minor": 0
      },
      "text/plain": [
       "IntSlider(value=43, description='$t_f$')"
      ]
     },
     "metadata": {},
     "output_type": "display_data"
    },
    {
     "data": {
      "application/vnd.jupyter.widget-view+json": {
       "model_id": "bfcc8d669b574f86adf53ce34de6ce35",
       "version_major": 2,
       "version_minor": 0
      },
      "text/plain": [
       "ToggleButtons(description='resolution', index=1, options=(128, 256, 512, 1024), value=256)"
      ]
     },
     "metadata": {},
     "output_type": "display_data"
    },
    {
     "data": {
      "application/vnd.jupyter.widget-view+json": {
       "model_id": "2b2989b67b7c44b4952c5aaf82031734",
       "version_major": 2,
       "version_minor": 0
      },
      "text/plain": [
       "FloatRangeSlider(value=(-4.5, 4.5), description='$x$ range', max=20.0, min=-20.0)"
      ]
     },
     "metadata": {},
     "output_type": "display_data"
    },
    {
     "data": {
      "application/vnd.jupyter.widget-view+json": {
       "model_id": "612997f0d4094cfebef122bdf66c19bc",
       "version_major": 2,
       "version_minor": 0
      },
      "text/plain": [
       "FloatRangeSlider(value=(-1.5, 1.5), description='$p_{x}$ range', max=5.0, min=-5.0)"
      ]
     },
     "metadata": {},
     "output_type": "display_data"
    }
   ],
   "source": [
    "w_tf = widgets.IntSlider(value=43.0, min=0.0, max=100.0, step=1, description='$t_f$')\n",
    "w_xrange = widgets.FloatRangeSlider(value=[-4.5, 4.5], min=-20.0, max=20.0, step=0.1, description='$x$ range')\n",
    "w_pxrange = widgets.FloatRangeSlider(value=[-1.5, 1.5], min=-5.0, max=5.0, step=0.1, description='$p_{x}$ range')\n",
    "w_resolution = widgets.ToggleButtons(value=256, options=[128,256,512,1024], description='resolution')\n",
    "w_animation = widgets.Checkbox(value=False, description='Animation')\n",
    "\n",
    "display(w_animation)\n",
    "display(w_tf)\n",
    "display(w_resolution)\n",
    "display(w_xrange)\n",
    "display(w_pxrange)"
   ]
  },
  {
   "cell_type": "code",
   "execution_count": 5,
   "metadata": {
    "colab": {},
    "colab_type": "code",
    "id": "X63mvvYQGREv",
    "jupyter": {
     "source_hidden": true
    },
    "tags": [
     "hide-input"
    ]
   },
   "outputs": [
    {
     "data": {
      "image/png": "[encoded data removed]",
      "text/plain": [
       "<Figure size 684x540 with 2 Axes>"
      ]
     },
     "metadata": {
      "needs_background": "light"
     },
     "output_type": "display_data"
    },
    {
     "data": {
      "text/latex": [
       "The period of the periodic orbit is 27.4656 a.u."
      ],
      "text/plain": [
       "<IPython.core.display.Latex object>"
      ]
     },
     "metadata": {},
     "output_type": "display_data"
    }
   ],
   "source": [
    "h_step = 0.05\n",
    "\n",
    "my_atom = Atom(a=w_a.value, b=w_b.value, ground_state_energy=w_Eg.value)\n",
    "params_envelop = (2, w_tau_lc.value-4, 2, 2)\n",
    "my_field = Field(wavelength=w_lambda_nm.value, intensity=0.0, envelope=envelope_name, params_envelop=params_envelop)\n",
    "\n",
    "x0 = np.linspace(w_xrange.value[0], w_xrange.value[1], w_resolution.value)\n",
    "px0 = np.linspace(w_pxrange.value[0], w_pxrange.value[1], w_resolution.value)\n",
    "X0 = np.tile(x0, w_resolution.value)\n",
    "Px0 = np.repeat(px0, w_resolution.value)\n",
    "Q = my_atom.E - 0.5 * Px0 ** 2 - potential_2e(np.array([X0, np.zeros(X0.size)]), my_atom)\n",
    "indices = np.where(Q >= 0)\n",
    "Py0 = np.sqrt(2.0 * Q[indices])\n",
    "x = np.array([X0[indices], np.zeros(Py0.size), Px0[indices], Py0])\n",
    "fig1 = plt.figure(figsize=(9.5,7.5))\n",
    "\n",
    "if w_animation.value==False:\n",
    "    parameters = Integration(N=Py0.size, t_f=w_tf.value, step=h_step)\n",
    "    x, J = eqn_motion_2e(x, my_atom, my_field, parameters, Jacobian=True)\n",
    "    Lambda = np.empty((w_resolution.value ** 2))\n",
    "    Lambda[:] = np.NaN\n",
    "    for i in np.arange(parameters.N):\n",
    "        w, v = np.linalg.eig(J[:,i].reshape(4,4))\n",
    "        Lambda[indices[0][i]] = np.log(np.amax(np.abs(w))) / parameters.t_f\n",
    "    \n",
    "    pcol = plt.pcolor(x0, px0, Lambda.reshape((w_resolution.value,w_resolution.value)), cmap='magma', vmin=0, vmax=np.nanmax(Lambda), shading='auto')\n",
    "    #pcol = plt.pcolor(x0, px0, Lambda.reshape((w_resolution.value,w_resolution.value)), cmap='magma', vmin=0, vmax=np.nanmax(Lambda))\n",
    "    fig1.colorbar(pcol)\n",
    "    plt.xlabel('$x$')\n",
    "    plt.ylabel('$p_x$')\n",
    "    plt.xlim(w_xrange.value)\n",
    "    plt.ylim(w_pxrange.value)\n",
    "else:\n",
    "    Ni = math.floor(1.0 / h_step) + 1.0\n",
    "    parameters = Integration(N=Py0.size, t_f=Ni*h_step, step=h_step)\n",
    "    J = np.identity(4).reshape(-1)\n",
    "    J = np.repeat(J[:,np.newaxis], parameters.N, axis=1)\n",
    "    tf = 0.0\n",
    "    while tf < w_tf.value:\n",
    "        x, J = eqn_motion_2e(x, my_atom, my_field, parameters, Jacobian=True, matrix_J=J)\n",
    "        Lambda = np.empty((w_resolution.value ** 2))\n",
    "        Lambda[:] = np.NaN\n",
    "        for i in np.arange(parameters.N):\n",
    "            w, v = np.linalg.eig(J[:,i].reshape(4,4))\n",
    "            Lambda[indices[0][i]] = np.log(np.amax(np.abs(w))) / (tf+Ni*h_step)\n",
    "    \n",
    "        pcol = plt.pcolor(x0, px0, Lambda.reshape((w_resolution.value,w_resolution.value)), cmap='magma', vmin=0, vmax=np.nanmax(Lambda), shading='auto')\n",
    "        #pcol = plt.pcolor(x0, px0, Lambda.reshape((w_resolution.value,w_resolution.value)), cmap='magma', vmin=0, vmax=np.nanmax(Lambda))\n",
    "        if tf > 0.0:\n",
    "            cb.remove()\n",
    "        cb = fig1.colorbar(pcol)\n",
    "        tf += Ni * h_step\n",
    "        plt.title('time: %i' %tf)\n",
    "        plt.xlabel('$x$')\n",
    "        plt.ylabel('$p_x$')\n",
    "        plt.xlim(w_xrange.value)\n",
    "        plt.ylim(w_pxrange.value)\n",
    "        clear_output(wait=True)\n",
    "        display(plt.gcf())\n",
    "        \n",
    "def diff_motion_2e(y, atom, integration): \n",
    "    Y0 = np.array([y[0], y[1], 0.0, np.sqrt(2.0 * (atom.E - potential_2e(y, atom)))])\n",
    "    tf, Yf = eqn_motion_2e_section(Y0, atom, integration)\n",
    "    return sum((Yf-Y0) ** 2)\n",
    "\n",
    "x0 = 2.5\n",
    "y0 = 0.1\n",
    "if my_atom.E - potential_2e(np.array([x0,y0]), my_atom) < 0:\n",
    "    print('The initial guess does not belong to the initial energy level.')\n",
    "else:\n",
    "    init_guess = np.array([x0,y0])\n",
    "    parameters = Integration(N=1, t_f=100.0, step=0.05, precision=np.float64)\n",
    "    Y0 = fmin(diff_motion_2e, init_guess, args=(my_atom, parameters), xtol=1.0e-8, maxiter=500, disp=False) \n",
    "    if diff_motion_2e(Y0, my_atom, parameters) > 1.0e-10:\n",
    "        print('The periodic orbit has not been found')\n",
    "        plt.show()\n",
    "    else:\n",
    "        Y0 = np.array([Y0[0],Y0[1],0.0,np.sqrt(2.0 * (my_atom.E - potential_2e(Y0, my_atom)))])\n",
    "        tf, yf = eqn_motion_2e_section(Y0, my_atom, parameters)\n",
    "        Tt = np.linspace(0.0, tf, 1000)\n",
    "        parameters.t_f = tf\n",
    "        Yt = eqn_motion_2e(Y0[:4], my_atom, my_field, parameters, traj=True, output_times=Tt)\n",
    "        plt.plot(Yt[0], Yt[2], color='r', linewidth=2)\n",
    "        plt.plot(Yt[1], Yt[3], color='b', linewidth=2)\n",
    "        clear_output(wait=True)\n",
    "        #display(plt.gcf())\n",
    "        plt.show()\n",
    "        display(Latex('The period of the periodic orbit is {:.4f} a.u.'.format(tf)))"
   ]
  },
  {
   "cell_type": "markdown",
   "metadata": {
    "colab_type": "text",
    "id": "Q-wLCkoYmRZs"
   },
   "source": [
    "## Figure 3: Typical trajectories of Hamiltonian (1)\n",
    "<div class=\"alert alert-block alert-info\">\n",
    "    The trajectories of Hamiltonian (1) are integrated for random initial conditions in the ground state. The positions of the two electrons are displayed as a function of time in red and in blue. The type of outcome ('No ionization', 'Single ionization' or 'Double ionization') is indicated in each panel.\n",
    "    <br> <em> Default parameters ($a=1$, $b=1$, ${\\cal E}_g=-2.24$, $\\lambda=780 \\; \\mathrm{nm}$, pulse duration $t_d = 8 \\; \\mathrm{l.c.}$, $I=2\\times 10^{14} \\; \\mathrm{W}/\\mathrm{cm}^2$, number of trajectories $N=2$, plot range in $x$: $[-10,20]$. Typical execution time: 2 seconds. </em> </div>"
   ]
  },
  {
   "cell_type": "code",
   "execution_count": 6,
   "metadata": {
    "jupyter": {
     "source_hidden": true
    },
    "tags": [
     "hide-input"
    ]
   },
   "outputs": [
    {
     "name": "stdout",
     "output_type": "stream",
     "text": [
      "\u001b[1m Number of trajectories:\n"
     ]
    },
    {
     "data": {
      "application/vnd.jupyter.widget-view+json": {
       "model_id": "8165825d8335402b8bc4a99986023bf5",
       "version_major": 2,
       "version_minor": 0
      },
      "text/plain": [
       "IntSlider(value=2, description='$N$', max=10, min=1)"
      ]
     },
     "metadata": {},
     "output_type": "display_data"
    },
    {
     "name": "stdout",
     "output_type": "stream",
     "text": [
      "\u001b[1m Plot range:\n"
     ]
    },
    {
     "data": {
      "application/vnd.jupyter.widget-view+json": {
       "model_id": "d20683c8af794a8c8e4d4a86565cfd07",
       "version_major": 2,
       "version_minor": 0
      },
      "text/plain": [
       "IntRangeSlider(value=(-10, 10), description='$x$ range', min=-100)"
      ]
     },
     "metadata": {},
     "output_type": "display_data"
    }
   ],
   "source": [
    "w_Ntrajectories = widgets.IntSlider(value=2, min=1, max=10, step=1, description='$N$')\n",
    "w_plot_xrange = widgets.IntRangeSlider(value=[-10.0, 10.0], min=-100.0, max=100.0, step=1, description='$x$ range')\n",
    "\n",
    "print('\\033[1m','Number of trajectories:')\n",
    "display(w_Ntrajectories)\n",
    "\n",
    "print('\\033[1m','Plot range:')\n",
    "display(w_plot_xrange)"
   ]
  },
  {
   "cell_type": "code",
   "execution_count": 7,
   "metadata": {
    "colab": {
     "base_uri": "https://localhost:8080/",
     "height": 501
    },
    "colab_type": "code",
    "executionInfo": {
     "elapsed": 555497,
     "status": "ok",
     "timestamp": 1597743066440,
     "user": {
      "displayName": "Cristel Chandre",
      "photoUrl": "https://lh3.googleusercontent.com/a-/AOh14GiDuaMJBJyPVQYlNzXYWVH66FhPBipdSStoVltpeU0=s64",
      "userId": "10196882246576949447"
     },
     "user_tz": -120
    },
    "id": "EWM_onLKGrk-",
    "jupyter": {
     "source_hidden": true
    },
    "outputId": "a5682013-f708-491b-a3b1-623df460c33f",
    "tags": [
     "hide-input"
    ]
   },
   "outputs": [
    {
     "data": {
      "image/png": "[encoded data removed]",
      "text/plain": [
       "<Figure size 756x252 with 1 Axes>"
      ]
     },
     "metadata": {
      "needs_background": "light"
     },
     "output_type": "display_data"
    },
    {
     "data": {
      "image/png": "[encoded data removed]",
      "text/plain": [
       "<Figure size 756x252 with 1 Axes>"
      ]
     },
     "metadata": {
      "needs_background": "light"
     },
     "output_type": "display_data"
    }
   ],
   "source": [
    "h_step = 0.05\n",
    "\n",
    "my_atom = Atom(a=w_a.value, b=w_b.value, ground_state_energy=w_Eg.value)\n",
    "params_envelop = (2, w_tau_lc.value-4, 2, 2)\n",
    "my_field = Field(wavelength=w_lambda_nm.value, intensity=w_Intensity.value, envelope=envelope_name, params_envelop=params_envelop)\n",
    "parameters = Integration(N=w_Ntrajectories.value, t_f=np.sum(my_field.params) * my_field.period, step=h_step, precision=np.float64)\n",
    "\n",
    "X0 = generate_initial_conditions(my_atom, parameters)\n",
    "Tt = np.linspace(0.0, parameters.t_f, 1000)\n",
    "for it in range(w_Ntrajectories.value):\n",
    "    X0_traj = X0[:, it]\n",
    "    Xt = eqn_motion_2e(X0_traj, my_atom, my_field, parameters, traj=True, output_times=Tt)\n",
    "    R1 = np.abs(Xt[0, -1])\n",
    "    R2 = np.abs(Xt[1, -1])\n",
    "    if (R1 <= my_atom.thresh) and (R2 <= my_atom.thresh):\n",
    "        label_ionization = \"No ionization\"\n",
    "    elif (R1 >= my_atom.thresh) and (R2 >= my_atom.thresh):\n",
    "        label_ionization = \"Double ionization\"\n",
    "    else:\n",
    "        label_ionization = \"Single ionization\"\n",
    "        \n",
    "    plt.figure(figsize=(10.5,3.5))\n",
    "    plt.plot(Tt/my_field.period, Xt[0], color='b', linewidth=2)\n",
    "    plt.plot(Tt/my_field.period, Xt[1], color='r', linewidth=2)\n",
    "    plt.annotate(label_ionization, (8, 10))\n",
    "    plt.xlabel('$t/T$')\n",
    "    plt.ylabel('Position (a.u.)')\n",
    "    plt.xlim([0, parameters.t_f/my_field.period])\n",
    "    plt.ylim(w_plot_xrange.value)\n",
    "    plt.show()"
   ]
  },
  {
   "cell_type": "markdown",
   "metadata": {
    "colab_type": "text",
    "id": "qLFeamV9mtjZ"
   },
   "source": [
    "## Single ionization\n",
    "By switching on the field, the outer electron is picked up and swept away from the nucleus. Consequently, its effective Hamiltonian is:\n",
    "$$\n",
    "{\\mathcal H}_1=\\frac{p_x^2}{2} + E_0 x f(t) \\sin\\omega t. \\tag{2}\n",
    "$$\n",
    "We notice that Hamiltonian ${\\mathcal H}_1$ is integrable. Its solutions are approximately composed of linear escape from the nucleus (at time $t_0$) modulated by the action of the field [2,37,38] (see the red trajectory in Fig. 3). \n",
    "\n",
    "For the inner electron, the effective Hamiltonian contains the interaction with the nucleus and with the laser field:\n",
    "$$\n",
    "{\\mathcal H}_2=\\frac{p_y^2}{2}-\\frac{2}{\\sqrt{y^2+a^2}}+yE_0\\sin\\omega t. \\tag{3}\n",
    "$$\n",
    "\n",
    "In the absence of the field ($E_0=0$), ${\\mathcal H}_2$ is also integrable and the inner electron is confined on a periodic orbit. Since it stays close to the nucleus, its approximate period is $2\\pi a^{3/2}/\\sqrt{2}$ obtained from the harmonic approximation, as observed in Fig. 3."
   ]
  },
  {
   "cell_type": "markdown",
   "metadata": {
    "colab_type": "text",
    "id": "JKW7Uco5nJ5b"
   },
   "source": [
    "## Sequential double ionization (SDI)\n",
    "Once an electron has been ionized (usually during the ramp-up of the field), the other electron is left with the nucleus and the field. Its effective Hamiltonian is ${\\mathcal H}_2$. A contour plot of the electron excursions after two laser cycles and a Poincar\\'e section of ${\\mathcal H}_2$ are depicted in Fig. 4. They clearly show two distinct regions: \n",
    "The first one is the core region which is composed of a collection of invariant tori which are slight deformations of the ones obtained in the integrable case ${\\mathcal H}_2$ without the field. This elliptic region is organized around a main elliptic periodic orbit which has the same period as the field $2\\pi/\\omega$. In this region, the electrons are fairly insensitive to the field, and do not ionize. The second region is the one outside the core where trajectories ionize quickly. It corresponds to sequential double ionization.  In between these two regions, any weak interaction (with the outer electron for instance) may move the inner electron confined on the outermost regular tori (but still inside the brown elliptical region) to the outer region where it ionizes quickly. \n",
    "\n",
    "If the laser intensity $I$ is too small, then the phase space is filled with invariant tori and no sequential double ionization can occur because the motion is regular. The sequential double ionization probability depends then on the size of the regular region around the elliptic periodic orbit, and hence on $I$.\n",
    "We have numerically computed the location and the stability of this periodic orbit [35]. When it exists, this periodic orbit stays elliptic in the whole range of intensities we have considered. On the stroboscopic plot (with frequency $\\omega$) the periodic orbit is located at $y=0$. In Fig. 4, the momentum $p_y$ of the periodic orbit on the stroboscopic plot is represented as a function of $I$. We notice that for a large set of intensities in the range $[10^{14}, 10^{16}]~ \\mbox{W} / \\mbox{cm}^{2}$, this periodic orbit is located close to $p_y= 0$. For intensities larger than a critical intensity $I_c$, the periodic orbit does not exist, and no major islands of regularity remain. Therefore, it is expected that the sequential double ionization probability is equal to one in this range of intensities, as observed on the probability curve on Fig. 1. The location of the local maximum of the potential of Hamiltonian (3) predicts that the intensity $I_c$ is approximately independent of $\\omega$, and it is given by $I_c\\approx 16/(27a^4)$."
   ]
  },
  {
   "cell_type": "markdown",
   "metadata": {
    "colab_type": "text",
    "id": "ItL_PfjkoFF1"
   },
   "source": [
    "## Figure 4: Phase-space picture\n",
    "<div class=\"alert alert-block alert-info\">\n",
    "    <b>Upper panel:</b> Contour plot of the electron location $y(t)$ of Hamiltonian (3), and Poincaré sections (stroboscopic plot) of selected trajectories in the elliptic central region. The Poincaré sections are computed by displaying $(y,p_y)$ at each period of the laser field. The inset shows the central periodic orbit. It is computed by determining the fixed point under the Poincaré section. <b>Lower panel:</b> Momentum of the central periodic orbit (on the Poincaré section) of Hamiltonian (3) as a function of the laser intensity.\n",
    "<br><em>Default parameters: $a=1$, $b=1$, ${\\cal E}_g=-2.24$, $\\lambda = 780 \\; \\mathrm{nm}$, pulse duration $t_d = 8 \\; \\mathrm{l.c.}$, $I = 5\\times10^{15} \\; \\mathrm{W}/\\mathrm{cm}^2$, resolution: $256$, range in $y$: $[-4.5,4.5]$, range in $p_y$: $[-1.5,1.5]$, integration time $t_f = 2 \\; \\mathrm{l.c.}$, $I_{\\min} = 1.5 \\times 10^{16} \\; \\mathrm{W}/\\mathrm{cm}^{2}$, $I_{\\max} = 1.9 \\times 10^{16} \\; \\mathrm{W}/\\mathrm{cm}^{2}$. Typical execution time: 40 seconds. </em> </div>"
   ]
  },
  {
   "cell_type": "code",
   "execution_count": 8,
   "metadata": {
    "jupyter": {
     "source_hidden": true
    },
    "tags": [
     "hide-input"
    ]
   },
   "outputs": [
    {
     "name": "stdout",
     "output_type": "stream",
     "text": [
      "\u001b[1m Upper panel - Initial conditions in phase space:\n"
     ]
    },
    {
     "data": {
      "application/vnd.jupyter.widget-view+json": {
       "model_id": "bfcc8d669b574f86adf53ce34de6ce35",
       "version_major": 2,
       "version_minor": 0
      },
      "text/plain": [
       "ToggleButtons(description='resolution', index=1, options=(128, 256, 512, 1024), value=256)"
      ]
     },
     "metadata": {},
     "output_type": "display_data"
    },
    {
     "data": {
      "application/vnd.jupyter.widget-view+json": {
       "model_id": "c60b900c47dd4d2db2fa9631edfd160a",
       "version_major": 2,
       "version_minor": 0
      },
      "text/plain": [
       "FloatRangeSlider(value=(-4.5, 4.5), description='$y$ range', max=20.0, min=-20.0)"
      ]
     },
     "metadata": {},
     "output_type": "display_data"
    },
    {
     "data": {
      "application/vnd.jupyter.widget-view+json": {
       "model_id": "f6b1e1f3539f455b8c3fad8e257af4ca",
       "version_major": 2,
       "version_minor": 0
      },
      "text/plain": [
       "FloatRangeSlider(value=(-1.5, 1.5), description='$p_y$ range', max=5.0, min=-5.0)"
      ]
     },
     "metadata": {},
     "output_type": "display_data"
    },
    {
     "data": {
      "application/vnd.jupyter.widget-view+json": {
       "model_id": "4f89e29f7a4d48e18a37acaf39627b91",
       "version_major": 2,
       "version_minor": 0
      },
      "text/plain": [
       "IntSlider(value=2, description='$t_f$ (in l.c.)', max=20)"
      ]
     },
     "metadata": {},
     "output_type": "display_data"
    },
    {
     "name": "stdout",
     "output_type": "stream",
     "text": [
      "\u001b[1m Lower panel - Intensity range:\n"
     ]
    },
    {
     "data": {
      "application/vnd.jupyter.widget-view+json": {
       "model_id": "06bba3350dde4127b283ed00c8136252",
       "version_major": 2,
       "version_minor": 0
      },
      "text/plain": [
       "FloatLogSlider(value=1.7e+16, description='$I_{\\\\min}$ (W/cm$^2$)', max=17.0, min=12.0, step=0.01)"
      ]
     },
     "metadata": {},
     "output_type": "display_data"
    },
    {
     "data": {
      "application/vnd.jupyter.widget-view+json": {
       "model_id": "c709158fe8d94341adc4723d252e2637",
       "version_major": 2,
       "version_minor": 0
      },
      "text/plain": [
       "FloatLogSlider(value=1.86e+16, description='$I_{\\\\max}$ (W/cm$^2$)', max=18.0, min=12.0, step=0.01)"
      ]
     },
     "metadata": {},
     "output_type": "display_data"
    }
   ],
   "source": [
    "w_yrange = widgets.FloatRangeSlider(value=[-4.5, 4.5], min=-20.0, max=20.0, step=0.1, description='$y$ range')\n",
    "w_pyrange = widgets.FloatRangeSlider(value=[-1.5, 1.5], min=-5.0, max=5.0, step=0.1, description='$p_y$ range')\n",
    "w_tf_lc = widgets.IntSlider(value=2, min=0.0, max=20, step=1, description='$t_f$ (in l.c.)')\n",
    "w_Imin = widgets.FloatLogSlider(value=1.70e16, base=10, min=12, max=17, step=0.01, description='$I_{\\min}$ (W/cm$^2$)')\n",
    "w_Imax = widgets.FloatLogSlider(value=1.86e16, base=10, min=12, max=18, step=0.01, description='$I_{\\max}$ (W/cm$^2$)')\n",
    "\n",
    "print('\\033[1m','Upper panel - Initial conditions in phase space:')\n",
    "display(w_resolution)\n",
    "display(w_yrange)\n",
    "display(w_pyrange)\n",
    "display(w_tf_lc)\n",
    "\n",
    "print('\\033[1m','Lower panel - Intensity range:')\n",
    "display(w_Imin)\n",
    "display(w_Imax)"
   ]
  },
  {
   "cell_type": "code",
   "execution_count": 9,
   "metadata": {
    "colab": {
     "base_uri": "https://localhost:8080/",
     "height": 666
    },
    "colab_type": "code",
    "executionInfo": {
     "elapsed": 64544,
     "status": "ok",
     "timestamp": 1597756299055,
     "user": {
      "displayName": "Cristel Chandre",
      "photoUrl": "https://lh3.googleusercontent.com/a-/AOh14GiDuaMJBJyPVQYlNzXYWVH66FhPBipdSStoVltpeU0=s64",
      "userId": "10196882246576949447"
     },
     "user_tz": -120
    },
    "id": "3LKFMJAiG7Mk",
    "jupyter": {
     "source_hidden": true
    },
    "outputId": "9423db3c-7474-447f-de2a-262229c61337",
    "tags": [
     "hide-input"
    ]
   },
   "outputs": [
    {
     "data": {
      "image/png": "[encoded data removed]",
      "text/plain": [
       "<Figure size 684x540 with 3 Axes>"
      ]
     },
     "metadata": {
      "needs_background": "light"
     },
     "output_type": "display_data"
    },
    {
     "data": {
      "image/png": "[encoded data removed]",
      "text/plain": [
       "<Figure size 540x180 with 1 Axes>"
      ]
     },
     "metadata": {
      "needs_background": "light"
     },
     "output_type": "display_data"
    }
   ],
   "source": [
    "Intensity = w_Intensity.value \n",
    "final_time_in_lc = w_tf_lc.value \n",
    "resolution = 256 \n",
    "PStraj = 7\n",
    "Points_per_PStraj = 300\n",
    "\n",
    "Imin = w_Imin.value\n",
    "Imax = w_Imax.value\n",
    "Number_of_intensities = 100\n",
    "init_guess = [0.0, -0.02]\n",
    "\n",
    "params_envelop = (2, w_tau_lc.value-4, 2, 2)\n",
    "my_field = Field(wavelength=w_lambda_nm.value, intensity=Intensity, params_envelop=params_envelop)\n",
    "parameters = Integration(step=my_field.period/np.floor(my_field.period/h_step),t_f=final_time_in_lc * my_field.period)\n",
    "y = np.linspace(w_yrange.value[0], w_yrange.value[1], resolution)\n",
    "py = np.linspace(w_pyrange.value[0], w_pyrange.value[1], resolution)\n",
    "Yf = eqn_motion_1e(np.meshgrid(y, py), my_atom, my_field, parameters)\n",
    "\n",
    "fig1 = plt.figure(figsize=(9.5,7.5))\n",
    "#pcol = plt.pcolor(y, py, np.log10(np.abs(Yf[0])), cmap='pink', vmin=-2, vmax=3)\n",
    "pcol = plt.pcolor(y, py, np.log10(np.abs(Yf[0])), cmap='pink', vmin=-2, vmax=3, shading='auto')\n",
    "fig1.colorbar(pcol)\n",
    "plt.xlabel('$y$')\n",
    "plt.ylabel('$p_y$')\n",
    "plt.xlim(w_yrange.value)\n",
    "plt.ylim(w_pyrange.value)\n",
    "\n",
    "parameters = Integration(step=my_field.period/np.floor(my_field.period/h_step), t_f=Points_per_PStraj * my_field.period, precision=np.float64)\n",
    "t_out = my_field.period * np.arange(3, Points_per_PStraj +1)\n",
    "y = np.linspace(0.0, my_atom.a, PStraj)\n",
    "Yt = eqn_motion_1e(np.vstack((y, np.zeros(PStraj))), my_atom, my_field, parameters, traj=True, output_times=t_out)\n",
    "\n",
    "plt.plot(Yt[0], Yt[1], marker='.', color='k', linestyle='None')\n",
    "\n",
    "\n",
    "def diff_motion_1e(y, atom, field, integration):\n",
    "    yf = eqn_motion_1e(y, atom, field, integration)\n",
    "    return yf-y\n",
    "\n",
    "\n",
    "parameters = Integration(step=my_field.period/np.floor(my_field.period/(h_step/10)), t_f=my_field.period, precision=np.float64)\n",
    "Y0 = fsolve(diff_motion_1e, init_guess, args=(my_atom, my_field, parameters), xtol=1e-08, maxfev=30)\n",
    "parameters.t_f = 1.001 * my_field.period\n",
    "Yt = eqn_motion_1e(Y0, my_atom, my_field, parameters, traj=True, output_times=np.linspace(0.0, parameters.t_f, 500))\n",
    "\n",
    "plt.arrow(1.1, 0.7, -1.088, -0.654, width = 0.01, head_width=0.08)\n",
    "ax_inset = fig1.add_axes([0.53, 0.7, 0.2, 0.15])\n",
    "ax_inset.plot(Yt[0], Yt[1])\n",
    "ax_inset.set_xlabel('$y$')\n",
    "ax_inset.set_ylabel('$p_y$')\n",
    "plt.show()\n",
    "\n",
    "parameters = Integration(step=my_field.period/np.floor(my_field.period/h_step), t_f=my_field.period, precision=np.float64)\n",
    "Intensity_range = np.linspace(Imin, Imax, Number_of_intensities)\n",
    "pdata = []\n",
    "for intensity_element in Intensity_range:\n",
    "    my_field = Field(wavelength=w_lambda_nm.value, intensity=intensity_element)\n",
    "    Yf, info, ier, msg = fsolve(diff_motion_1e, init_guess, args=(my_atom, my_field, parameters), xtol=1e-06, maxfev=30, full_output=True)\n",
    "    if ier == 1:\n",
    "        pval = Yf[1]\n",
    "        init_guess = Yf\n",
    "    else:\n",
    "        pval = np.nan\n",
    "    pdata = np.append(pdata, pval)\n",
    "\n",
    "plt.figure(figsize=(7.5,2.5))\n",
    "plt.plot(Intensity_range, pdata, linewidth=2, color='b')\n",
    "plt.xlabel('$I$ (W/cm$^2$)')\n",
    "plt.ylabel('$p_y$')\n",
    "plt.xlim([Imin, Imax])\n",
    "plt.ylim([-0.025, 0.02])\n",
    "plt.show()"
   ]
  },
  {
   "cell_type": "markdown",
   "metadata": {
    "colab_type": "text",
    "id": "SImPJbmBpfTq"
   },
   "source": [
    "## Nonsequential double ionization (NSDI)\n",
    "As noted before, when the field is turned on, its action is concentrated on only one electron, the outer one, as a first step.  The field drives the outer electron away from the nucleus, leaving the inner electron nearly unaffected by the field because its position remains small. \n",
    "From the recollision process [2,3], the outer electron might come back close to the nucleus during the pulse plateau, if the field amplitude is not too large. In this case, it transfers a part of its energy to the inner electron through the electron-electron interaction term. \n",
    "From then on, two outcomes are possible: If the energy brought in by the outer electron is sufficient for the other electron to escape from the regular region (as in Fig. 3, upper panel), then it might ionize together with the outer electron. The maximum energy ${\\mathcal E}_x$ of the outer electron when it returns to the inner region (after having left the inner region with a small momentum $p_0$ close to zero) is obtained from Hamiltonian (2) and is\n",
    "${\\mathcal E}_x= \\kappa U_p$, where $U_p=E_0^2/(4\\omega^2)$ is the ponderomotive energy and $\\kappa\\approx 3.17$ is the maximum recollision kinetic energy in units of $U_p$ [2,37,38]. We complement the recollision scenario (which focuses on the outer electron) by providing the phase space picture of the inner electron: In order to ionize the core electron, the energy brought back by the outer electron has to be of order of the energy difference between the core ($y=0$) and the boundary of the stable region ($y=y_m$) of ${\\mathcal H}_2$ (see Fig. 4) which is equal to\n",
    "$$\n",
    "\\Delta {\\mathcal E}_y=2-\\frac{2}{\\sqrt{y_m^2+a^2}}. \\tag{4}\n",
    "$$\n",
    "A good approximation to $y_m=y_m(E_0)$ is given by the value where the potential is locally maximum, i.e. $E_0= 2y_m/(y_m^2+a^2)^{3/2}$.\n",
    "The equal-sharing relation which links the classical picture of the outer electron $x$ with the one of the inner electron $y$,\n",
    "$$\n",
    "\\Delta {\\mathcal E}_y=\\frac{{\\mathcal E}_x}{2}= \\frac{\\kappa}{2\\omega^2}\\frac{y_m^2}{(y_m^2+a^2)^3}, \\tag{5}\n",
    "$$\n",
    "defines (through an implicit equation) the expected value of the field $E_0^{(c)}$ for maximal NSDI, because it describes the case when each outer electron brings back enough energy to ionize the inner electron, while remaining ionized itself. However, fulfilling this energy requirement does not guarantee NSDI: The outcome depends on the number and efficiency of recollisions. The predicted value of the amplitude $E_0^{(c)}$ as given by Eq. (5) corresponds to an intensity $I^{(c)}$ given below which agrees very well with the simulations shown in Fig. 1.\n",
    "In a wide range of frequencies, an accurate expansion of $E_0^{(c)}$ is obtained from Eqs. (4)-(5) and given by\n",
    "$$\n",
    "E_0^{(c)}= \\frac{4\\omega}{\\sqrt{\\kappa}}-\\left(\\frac{2\\omega}{\\sqrt{\\kappa}} \\right)^{3/2}+O\\left(\\frac{4\\omega^2}{\\kappa}\\right), \\tag{6}\n",
    "$$\n",
    "for sufficiently small $\\omega$. To leading order the corresponding intensity varies as $\\omega^2$. The approximate intensity given by Eq. (6) is in excellent agreement with Fig. 1.\n",
    "When the field $E_0$ is too small, then the outer electron cannot gain enough energy to ionize the inner electron. When the field $E_0$ is too large, then the outer electron does not recollide since it leaves the interaction region nearly linearly. These two limits explain the bell shape of the resulting nonsequential double ionization probability, which, when put together with the monotonic rise of the SDI probability at higher intensities, adds up to the knee in question."
   ]
  },
  {
   "cell_type": "code",
   "execution_count": 10,
   "metadata": {
    "colab": {
     "base_uri": "https://localhost:8080/",
     "height": 63
    },
    "colab_type": "code",
    "executionInfo": {
     "elapsed": 623755,
     "status": "ok",
     "timestamp": 1597743134703,
     "user": {
      "displayName": "Cristel Chandre",
      "photoUrl": "https://lh3.googleusercontent.com/a-/AOh14GiDuaMJBJyPVQYlNzXYWVH66FhPBipdSStoVltpeU0=s64",
      "userId": "10196882246576949447"
     },
     "user_tz": -120
    },
    "id": "Vrpwvue2ldeb",
    "jupyter": {
     "source_hidden": true
    },
    "outputId": "3cb8b67e-b35c-48aa-b3fe-06d9fb05c23c",
    "tags": [
     "hide-input"
    ]
   },
   "outputs": [
    {
     "data": {
      "text/latex": [
       "$\\displaystyle I_0^{(c)} \\approx 4.6 \\times 10^{14}  ~{\\rm W / cm}^2 \\\\ I_c \\approx 2.1 \\times 10^{16}  ~{\\rm W / cm}^2$"
      ],
      "text/plain": [
       "<IPython.core.display.Math object>"
      ]
     },
     "metadata": {},
     "output_type": "display_data"
    }
   ],
   "source": [
    "def fexp(f):\n",
    "    return int(np.floor(np.log10(abs(f)))) if f != 0 else 0\n",
    "\n",
    "\n",
    "def fman(f):\n",
    "    return f/10**fexp(f)\n",
    "\n",
    "my_atom = Atom(a=w_a.value, b=w_b.value, ground_state_energy=w_Eg.value)\n",
    "my_field = Field(wavelength=w_lambda_nm.value)\n",
    "kappa = 3.17\n",
    "I0c = 3.51e16 * (4*my_field.frequency/np.sqrt(kappa)-(2*my_field.frequency/np.sqrt(kappa)) ** 1.5) **2\n",
    "I0_c = 3.51e16 * 16/(27*my_atom.a **4)\n",
    "display(Math(r'I_0^{{(c)}} \\approx {:.2} \\times 10^{{{}}}  ~{{\\rm W / cm}}^2 \\\\ I_c \\approx {:.2} \\times 10^{{{}}}  ~{{\\rm W / cm}}^2'.format(fman(I0c),fexp(I0c),fman(I0_c),fexp(I0_c))))"
   ]
  },
  {
   "cell_type": "markdown",
   "metadata": {
    "colab_type": "text",
    "id": "nmdn-GnL1LJD"
   },
   "source": [
    "\n",
    "\n",
    "---\n",
    "\n",
    "\n",
    "C. C. acknowledges financial support from the PICS\n",
    "program of the CNRS. This work is partially funded by\n",
    "NSF. We thank A. D. Bandrauk, W. Becker, and S. L. Haan\n",
    "for useful discussions.\n",
    "\n",
    "---\n",
    "\n",
    "\n",
    "## References\n",
    "\n",
    "[[1](http://link.aps.org/doi/10.1103/PhysRevLett.69.2642)] D. N. Fittinghoff, P. R. Bolton, B. Chang, and K. C.\n",
    "Kulander, Phys. Rev. Lett. 69, 2642 (1992).\n",
    "\n",
    "[[2](http://link.aps.org/doi/10.1103/PhysRevLett.71.1994)] P. B. Corkum, Phys. Rev. Lett. 71, 1994 (1993).\n",
    "\n",
    "[[3](http://link.aps.org/doi/10.1103/PhysRevLett.70.1599)] K. J. Schafer, B. Yang, L. F. DiMauro, and K. C. Kulander, Phys. Rev. Lett. 70, 1599 (1993).\n",
    "\n",
    "[[4](http://link.aps.org/doi/10.1103/PhysRevLett.73.1227)] B. Walker, B. Sheehy, L. F. DiMauro, P. Agostini, K. J.\n",
    "Schafer, and K. C. Kulander, Phys. Rev. Lett. 73, 1227\n",
    "(1994).\n",
    "\n",
    "[[5a](http://dx.doi.org/10.1088/0953-4075/29/6/005), [5b](http://dx.doi.org/10.1088/0953-4075/32/14/101)] A. Becker and F. H. M. Faisal, J. Phys. B 29, L197 (1996); J. Phys. B 32, L335 ( 1999).\n",
    "\n",
    "[[6](http://link.aps.org/doi/10.1103/PhysRevLett.85.3781)] R. Kopold, W. Becker, H. Rottke, and W. Sandner, Phys.\n",
    "Rev. Lett. 85, 3781 (2000).\n",
    "\n",
    "[[7](http://link.aps.org/doi/10.1103/PhysRevLett.85.4707)] M. Lein, E. K. U. Gross, and V. Engel, Phys. Rev. Lett. 85, 4707 (2000).\n",
    "\n",
    "[[8](http://link.aps.org/doi/10.1103/PhysRevA.63.043414)] K. Sacha and B. Eckhardt, Phys. Rev. A 63, 043414\n",
    "(2001).\n",
    "\n",
    "[[9](http://link.aps.org/doi/10.1103/PhysRevA.63.043416)] L.-B. Fu, J. Liu, J. Chen, and S.-G. Chen, Phys. Rev. A 63, 043416 (2001).\n",
    "\n",
    "[[10](https://doi.org/10.1364/OE.8.000431)] R. Panfili, J. H. Eberly, and S. L. Haan, Opt. Express 8, 431 (2001).\n",
    "\n",
    "[[11](http://link.aps.org/doi/10.1103/PhysRevLett.93.053201)] J. Colgan, M. S. Pindzola, and F. Robicheaux, Phys. Rev. Lett. 93, 053201 (2004).\n",
    "\n",
    "[[12](http://link.aps.org/doi/10.1103/PhysRevLett.94.093002)] P. J. Ho, R. Panfili, S. L. Haan, and J. H. Eberly, Phys. Rev. Lett. 94, 093002 (2005).\n",
    "\n",
    "[[13](http://link.aps.org/doi/10.1103/PhysRevLett.95.193002)] P. J. Ho and J. H. Eberly, Phys. Rev. Lett. 95, 193002\n",
    "(2005).\n",
    "\n",
    "[[14](http://link.aps.org/doi/10.1103/PhysRevLett.94.063002)] C. Ruiz, L. Plaja, and L. Roso, Phys. Rev. Lett. 94, 063002 (2005).\n",
    "\n",
    "[[15](http://link.aps.org/doi/10.1103/PhysRevA.76.030701)] D. A. Horner, F. Morales, T. N. Rescigno, F. Martin, and C.W. McCurdy, Phys. Rev. A 76, 030701(R) (2007).\n",
    "\n",
    "[[16](http://link.aps.org/doi/10.1103/PhysRevLett.98.203002)] J. S. Prauzner-Bechcicki, K. Sacha, B. Eckhardt, and\n",
    "J. Zakrzewski, Phys. Rev. Lett. 98, 203002 (2007).\n",
    "\n",
    "[[17](http://link.aps.org/doi/10.1103/PhysRevA.77.043420)] J. Feist, S. Nagele, R. Pazourek, E. Persson, B. I.\n",
    "Schneider, L.A. Collins, and J. Burgdörfer, Phys. Rev. A\n",
    "77, 043420 (2008).\n",
    "\n",
    "[[18](http://dx.doi.org/10.1140/epjd/e2003-00272-8)] I. F. Barna and J. M. Rost, Eur. Phys. J. D 27, 287 (2003).\n",
    "\n",
    "[[19](http://dx.doi.org/10.1038/nphys310)] W. A. Bryan, S. L. Stebbings, J. McKenna, E. M. L.\n",
    "English, M. Suresh, J. Wood, B. Srigengan, I. C. E.\n",
    "Turcu, J. M. Smith, and E. J. Divall et al., Nature Phys.\n",
    "2, 379 (2006).\n",
    "\n",
    "[[20](http://dx.doi.org/10.1038/35015033)] T. Weber, H. Giessen, M. Weckenbrock, G. Urbasch, A.\n",
    "Staudte, L. Spielberger, O. Jagutzki, V. Mergel, M.\n",
    "Vollmer, and R. Dörner, Nature (London) 405, 658 (2000).\n",
    "\n",
    "[[21](http://link.aps.org/doi/10.1103/PhysRevA.48.R2531)] K. Kondo, A. Sagisaka, T. Tamida, Y. Nabekawa, and S.\n",
    "Watanabe, Phys. Rev. A 48, R2531 (1993).\n",
    "\n",
    "[[22](http://dx.doi.org/10.1088/0953-4075/31/6/008)] S. Larochelle, A. Talebpour, and S. L. Chin, J. Phys. B 31, 1201 (1998).\n",
    "\n",
    "[[23](http://link.aps.org/doi/10.1103/PhysRevA.62.023403)] C. Cornaggia and P. Hering, Phys. Rev. A 62, 023403\n",
    "(2000).\n",
    "\n",
    "[[24](http://link.aps.org/doi/10.1103/PhysRevA.63.040701)] C. Guo and G. N. Gibson, Phys. Rev. A 63, 040701 (2001).\n",
    "\n",
    "[[25](http://link.aps.org/doi/10.1103/PhysRevLett.87.153001)] M. J. DeWitt, E. Wells, and R. R. Jones, Phys. Rev. Lett. 87, 153001 (2001).\n",
    "\n",
    "[[26](http://link.aps.org/doi/10.1103/PhysRevLett.92.203001)] J. Rudati, J. L. Chaloupka, P. Agostini, K. C. Kulander, and L. F. DiMauro, Phys. Rev. Lett. 92, 203001 (2004).\n",
    "\n",
    "[[27](http://link.aps.org/doi/10.1103/PhysRevLett.78.1884)] J. B. Watson, A. Sanpera, D. G. Lappas, P. L. Knight, and K. Burnett, Phys. Rev. Lett. 78, 1884 (1997).\n",
    "\n",
    "[[28](http://dx.doi.org/10.1088/0953-4075/31/6/001)] D. G. Lappas and R. van Leeuwen, J. Phys. B 31, L249\n",
    "(1998).\n",
    "\n",
    "[[29](http://link.aps.org/doi/10.1103/PhysRevA.67.043402)] R. Panfili and W.-C. Liu, Phys. Rev. A 67, 043402 (2003).\n",
    "\n",
    "[[30](http://link.aps.org/doi/10.1103/PhysRevLett.89.113001)] R. Panfili, S. L. Haan, and J. H. Eberly, Phys. Rev. Lett. 89, 113001 (2002).\n",
    "\n",
    "[[31](http://link.aps.org/doi/10.1103/PhysRevLett.99.013003)] J. Liu, D. F. Ye, J. Chen, and X. Liu, Phys. Rev. Lett. 99, 013003 (2007).\n",
    "\n",
    "[[32](http://link.aps.org/doi/10.1103/PhysRevA.44.5997)] Q. Su and J. H. Eberly, Phys. Rev. A 44, 5997 (1991).\n",
    "\n",
    "[[33](http://link.aps.org/doi/10.1103/PhysRevA.38.3430)] J. Javanainen, J. H. Eberly, and Q. Su, Phys. Rev. A 38, 3430 (1988).\n",
    "\n",
    "[[34](http://link.aps.org/doi/10.1103/PhysRevA.50.378)] S. L. Haan, R. Grobe, and J. H. Eberly, Phys. Rev. A 50, 378 (1994).\n",
    "\n",
    "[[35](http://chaosbook.org)] P. Cvitanovic, R. Artuso, R. Mainieri, G. Tanner, and G. Vattay, Chaos: Classical and Quantum (Niels Bohr\n",
    "Institute, Copenhagen, 2008).\n",
    "\n",
    "[[36](http://link.aps.org/doi/10.1103/PhysRevA.74.043417)] E. Shchekinova, C. Chandre, and T. Uzer, Phys. Rev. A 74, 043417 (2006).\n",
    "\n",
    "[[37](http://link.aps.org/doi/10.1103/PhysRevA.50.1540)] W. Becker, S. Long, and J. K. McIver, Phys. Rev. A 50,\n",
    "1540 (1994).\n",
    "\n",
    "[[38](http://dx.doi.org/10.1080/09500340410001729582)] A. D. Bandrauk, S. Chelkowski, and S. Goudreau, J. Mod.\n",
    "Opt. 52, 411 (2005).\n",
    "\n",
    "\n"
   ]
  }
 ],
 "metadata": {
  "celltoolbar": "Format de la Cellule Texte Brut",
  "colab": {
   "collapsed_sections": [],
   "name": "Notebook_Article.ipynb",
   "provenance": []
  },
  "hide_input": true,
  "kernelspec": {
   "display_name": "Python 3",
   "language": "python",
   "name": "python3"
  },
  "language_info": {
   "codemirror_mode": {
    "name": "ipython",
    "version": 3
   },
   "file_extension": ".py",
   "mimetype": "text/x-python",
   "name": "python",
   "nbconvert_exporter": "python",
   "pygments_lexer": "ipython3",
   "version": "3.8.5"
  },
  "title": "Notebook article: Strong field double ionization: The phase space perspective",
  "toc": {
   "base_numbering": 1,
   "nav_menu": {},
   "number_sections": false,
   "sideBar": true,
   "skip_h1_title": false,
   "title_cell": "Table of Contents",
   "title_sidebar": "Contents",
   "toc_cell": false,
   "toc_position": {},
   "toc_section_display": true,
   "toc_window_display": true
  },
  "toc-autonumbering": false,
  "toc-showcode": false,
  "toc-showmarkdowntxt": false,
  "toc-showtags": false,
  "widgets": {
   "application/vnd.jupyter.widget-state+json": {
    "state": {
     "0187855a6f9d4a9abf7ba9378c479c28": {
      "model_module": "@jupyter-widgets/controls",
      "model_module_version": "1.5.0",
      "model_name": "SliderStyleModel",
      "state": {
       "description_width": ""
      }
     },
     "025a00cfa59341d7bfbc6a3bfe07fb7a": {
      "model_module": "@jupyter-widgets/controls",
      "model_module_version": "1.5.0",
      "model_name": "SliderStyleModel",
      "state": {
       "description_width": ""
      }
     },
     "06bba3350dde4127b283ed00c8136252": {
      "model_module": "@jupyter-widgets/controls",
      "model_module_version": "1.5.0",
      "model_name": "FloatLogSliderModel",
      "state": {
       "description": "$I_{\\min}$ (W/cm$^2$)",
       "layout": "IPY_MODEL_e5104cdb7b1549b69974a733c7df4c63",
       "max": 17,
       "min": 12,
       "step": 0.01,
       "style": "IPY_MODEL_fe6cd9dc308648cdb9dcd7cad2c0dd35",
       "value": 17000000000000000
      }
     },
     "087d151600554337ae368382575b16e5": {
      "model_module": "@jupyter-widgets/controls",
      "model_module_version": "1.5.0",
      "model_name": "SliderStyleModel",
      "state": {
       "description_width": ""
      }
     },
     "0d6c2922b5e84d6ca69fe254c05d396b": {
      "model_module": "@jupyter-widgets/controls",
      "model_module_version": "1.5.0",
      "model_name": "SliderStyleModel",
      "state": {
       "description_width": ""
      }
     },
     "2b2989b67b7c44b4952c5aaf82031734": {
      "model_module": "@jupyter-widgets/controls",
      "model_module_version": "1.5.0",
      "model_name": "FloatRangeSliderModel",
      "state": {
       "_model_name": "FloatRangeSliderModel",
       "_view_name": "FloatRangeSliderView",
       "description": "$x$ range",
       "layout": "IPY_MODEL_cbd9375944914f9c9043adf522fa9a61",
       "max": 20,
       "min": -20,
       "step": 0.1,
       "style": "IPY_MODEL_025a00cfa59341d7bfbc6a3bfe07fb7a",
       "value": [
        -4.5,
        4.5
       ]
      }
     },
     "31f877aaac4b461f9fb0e53bd27e40d8": {
      "model_module": "@jupyter-widgets/controls",
      "model_module_version": "1.5.0",
      "model_name": "SliderStyleModel",
      "state": {
       "description_width": ""
      }
     },
     "373b2517bc834765b758e052ed6bcc0f": {
      "model_module": "@jupyter-widgets/controls",
      "model_module_version": "1.5.0",
      "model_name": "SliderStyleModel",
      "state": {
       "description_width": ""
      }
     },
     "3e355ad8a72c4e2fa6f171f35d9c6aaf": {
      "model_module": "@jupyter-widgets/base",
      "model_module_version": "1.2.0",
      "model_name": "LayoutModel",
      "state": {}
     },
     "4952c8461af64cb996ab441f44c0eb46": {
      "model_module": "@jupyter-widgets/controls",
      "model_module_version": "1.5.0",
      "model_name": "IntSliderModel",
      "state": {
       "description": "$t_d$ (l.c.)",
       "layout": "IPY_MODEL_f9ecd3b9cfdf4ed09a2b044183198c9c",
       "max": 30,
       "min": 4,
       "style": "IPY_MODEL_373b2517bc834765b758e052ed6bcc0f",
       "value": 8
      }
     },
     "4b49937f22a84164b31aa90e30bb9530": {
      "model_module": "@jupyter-widgets/controls",
      "model_module_version": "1.5.0",
      "model_name": "SliderStyleModel",
      "state": {
       "description_width": ""
      }
     },
     "4b7b86bba2e641738b2f74eca910dc8c": {
      "model_module": "@jupyter-widgets/base",
      "model_module_version": "1.2.0",
      "model_name": "LayoutModel",
      "state": {}
     },
     "4e6590e1774d4d77b4ca473a91ff9d41": {
      "model_module": "@jupyter-widgets/controls",
      "model_module_version": "1.5.0",
      "model_name": "SliderStyleModel",
      "state": {
       "description_width": ""
      }
     },
     "4f89e29f7a4d48e18a37acaf39627b91": {
      "model_module": "@jupyter-widgets/controls",
      "model_module_version": "1.5.0",
      "model_name": "IntSliderModel",
      "state": {
       "description": "$t_f$ (in l.c.)",
       "layout": "IPY_MODEL_3e355ad8a72c4e2fa6f171f35d9c6aaf",
       "max": 20,
       "style": "IPY_MODEL_728ecd3bb28a419db1400a45e657c01e",
       "value": 2
      }
     },
     "52af13f37c784a16a5ff5389c3a540f8": {
      "model_module": "@jupyter-widgets/base",
      "model_module_version": "1.2.0",
      "model_name": "LayoutModel",
      "state": {}
     },
     "53babed5d8f24a24a880edff91dc473b": {
      "model_module": "@jupyter-widgets/base",
      "model_module_version": "1.2.0",
      "model_name": "LayoutModel",
      "state": {}
     },
     "58459891e82b4206ae80213db1942268": {
      "model_module": "@jupyter-widgets/controls",
      "model_module_version": "1.5.0",
      "model_name": "IntSliderModel",
      "state": {
       "description": "$t_f$",
       "layout": "IPY_MODEL_a6e3e73726904e95bb6057124ed4caf4",
       "style": "IPY_MODEL_4b49937f22a84164b31aa90e30bb9530",
       "value": 43
      }
     },
     "60132bfcc99d403a8c37c3ac92272ea2": {
      "model_module": "@jupyter-widgets/controls",
      "model_module_version": "1.5.0",
      "model_name": "SliderStyleModel",
      "state": {
       "description_width": ""
      }
     },
     "612997f0d4094cfebef122bdf66c19bc": {
      "model_module": "@jupyter-widgets/controls",
      "model_module_version": "1.5.0",
      "model_name": "FloatRangeSliderModel",
      "state": {
       "_model_name": "FloatRangeSliderModel",
       "_view_name": "FloatRangeSliderView",
       "description": "$p_{x}$ range",
       "layout": "IPY_MODEL_52af13f37c784a16a5ff5389c3a540f8",
       "max": 5,
       "min": -5,
       "step": 0.1,
       "style": "IPY_MODEL_31f877aaac4b461f9fb0e53bd27e40d8",
       "value": [
        -1.5,
        1.5
       ]
      }
     },
     "62b2e68494274350bc5299af36035ba6": {
      "model_module": "@jupyter-widgets/controls",
      "model_module_version": "1.5.0",
      "model_name": "SliderStyleModel",
      "state": {
       "description_width": ""
      }
     },
     "636b1a877ccf41b187446fd6540fedb5": {
      "model_module": "@jupyter-widgets/base",
      "model_module_version": "1.2.0",
      "model_name": "LayoutModel",
      "state": {}
     },
     "69efcd7d2cf34629892ef24532f8a297": {
      "model_module": "@jupyter-widgets/controls",
      "model_module_version": "1.5.0",
      "model_name": "FloatSliderModel",
      "state": {
       "description": "$b$ (a.u.)",
       "layout": "IPY_MODEL_636b1a877ccf41b187446fd6540fedb5",
       "max": 10,
       "step": 0.1,
       "style": "IPY_MODEL_60132bfcc99d403a8c37c3ac92272ea2",
       "value": 1
      }
     },
     "728ecd3bb28a419db1400a45e657c01e": {
      "model_module": "@jupyter-widgets/controls",
      "model_module_version": "1.5.0",
      "model_name": "SliderStyleModel",
      "state": {
       "description_width": ""
      }
     },
     "79d901c4fc8d44f0bf2006f0edb9c100": {
      "model_module": "@jupyter-widgets/base",
      "model_module_version": "1.2.0",
      "model_name": "LayoutModel",
      "state": {}
     },
     "7ab9c249616c4518a67df5f91cba71b2": {
      "model_module": "@jupyter-widgets/controls",
      "model_module_version": "1.5.0",
      "model_name": "SliderStyleModel",
      "state": {
       "description_width": ""
      }
     },
     "8033ed90e46e41c9ba07cb260050fd22": {
      "model_module": "@jupyter-widgets/controls",
      "model_module_version": "1.5.0",
      "model_name": "SliderStyleModel",
      "state": {
       "description_width": ""
      }
     },
     "8165825d8335402b8bc4a99986023bf5": {
      "model_module": "@jupyter-widgets/controls",
      "model_module_version": "1.5.0",
      "model_name": "IntSliderModel",
      "state": {
       "description": "$N$",
       "layout": "IPY_MODEL_53babed5d8f24a24a880edff91dc473b",
       "max": 10,
       "min": 1,
       "style": "IPY_MODEL_7ab9c249616c4518a67df5f91cba71b2",
       "value": 2
      }
     },
     "872e6eeec02943fca4096490dba502ea": {
      "model_module": "@jupyter-widgets/base",
      "model_module_version": "1.2.0",
      "model_name": "LayoutModel",
      "state": {}
     },
     "88dac8cddd474a97881c6294534e49ff": {
      "model_module": "@jupyter-widgets/controls",
      "model_module_version": "1.5.0",
      "model_name": "SliderStyleModel",
      "state": {
       "description_width": ""
      }
     },
     "925f3495a7d54cbfa919f009f3dc69b2": {
      "model_module": "@jupyter-widgets/controls",
      "model_module_version": "1.5.0",
      "model_name": "FloatSliderModel",
      "state": {
       "description": "$\\mathcal{E}_g$ (a.u.)",
       "layout": "IPY_MODEL_e433a8f0e3a44474a4e15ef4ccb06d28",
       "max": 0,
       "min": -3,
       "step": 0.01,
       "style": "IPY_MODEL_087d151600554337ae368382575b16e5",
       "value": -2.24
      }
     },
     "a4be721b172c4fd586c019a41e4cf2f4": {
      "model_module": "@jupyter-widgets/base",
      "model_module_version": "1.2.0",
      "model_name": "LayoutModel",
      "state": {}
     },
     "a55449b4ca4f4ebbb73009d3aa6b9b3d": {
      "model_module": "@jupyter-widgets/controls",
      "model_module_version": "1.5.0",
      "model_name": "SliderStyleModel",
      "state": {
       "description_width": ""
      }
     },
     "a6e3e73726904e95bb6057124ed4caf4": {
      "model_module": "@jupyter-widgets/base",
      "model_module_version": "1.2.0",
      "model_name": "LayoutModel",
      "state": {}
     },
     "a936498ed69249d99b2c696b0c8bf402": {
      "model_module": "@jupyter-widgets/base",
      "model_module_version": "1.2.0",
      "model_name": "LayoutModel",
      "state": {}
     },
     "b4b62d72cbaf427695da98022aa7356e": {
      "model_module": "@jupyter-widgets/controls",
      "model_module_version": "1.5.0",
      "model_name": "FloatLogSliderModel",
      "state": {
       "description": "$I$ ($\\mathrm{W}/\\mathrm{cm}^2$)",
       "layout": "IPY_MODEL_d12d8821911c439b9a259da48fc68c45",
       "max": 18,
       "min": 10,
       "step": 0.01,
       "style": "IPY_MODEL_a55449b4ca4f4ebbb73009d3aa6b9b3d",
       "value": 5000000000000000
      }
     },
     "b77e453a359841019c8db6a7d5651fe9": {
      "model_module": "@jupyter-widgets/controls",
      "model_module_version": "1.5.0",
      "model_name": "FloatLogSliderModel",
      "state": {
       "description": "$I_{\\mathrm{max}}$ (W/cm$^2$)",
       "layout": "IPY_MODEL_4b7b86bba2e641738b2f74eca910dc8c",
       "max": 18,
       "min": 10,
       "step": 0.2,
       "style": "IPY_MODEL_d8dbd0ade69344e1930d6eb53791c8f1",
       "value": 50000000000000000
      }
     },
     "b799a17c916442c7832020e73d0a6a69": {
      "model_module": "@jupyter-widgets/controls",
      "model_module_version": "1.5.0",
      "model_name": "FloatLogSliderModel",
      "state": {
       "description": "$I_{\\mathrm{min}}$ (W/cm$^2$)",
       "layout": "IPY_MODEL_f79e508d43ac444aa80501d59151e78f",
       "max": 18,
       "min": 10,
       "step": 0.2,
       "style": "IPY_MODEL_8033ed90e46e41c9ba07cb260050fd22",
       "value": 30000000000000
      }
     },
     "bfcc8d669b574f86adf53ce34de6ce35": {
      "model_module": "@jupyter-widgets/controls",
      "model_module_version": "1.5.0",
      "model_name": "ToggleButtonsModel",
      "state": {
       "_options_labels": [
        "128",
        "256",
        "512",
        "1024"
       ],
       "button_style": "",
       "description": "resolution",
       "icons": [],
       "index": 1,
       "layout": "IPY_MODEL_79d901c4fc8d44f0bf2006f0edb9c100",
       "style": "IPY_MODEL_cc4fbb150add495dbe6675224641debf",
       "tooltips": []
      }
     },
     "c0b6e007d8c7401c8877365098a09bf0": {
      "model_module": "@jupyter-widgets/base",
      "model_module_version": "1.2.0",
      "model_name": "LayoutModel",
      "state": {}
     },
     "c60b900c47dd4d2db2fa9631edfd160a": {
      "model_module": "@jupyter-widgets/controls",
      "model_module_version": "1.5.0",
      "model_name": "FloatRangeSliderModel",
      "state": {
       "_model_name": "FloatRangeSliderModel",
       "_view_name": "FloatRangeSliderView",
       "description": "$y$ range",
       "layout": "IPY_MODEL_dd93177333a643ecaca9938e6e5151c7",
       "max": 20,
       "min": -20,
       "step": 0.1,
       "style": "IPY_MODEL_4e6590e1774d4d77b4ca473a91ff9d41",
       "value": [
        -4.5,
        4.5
       ]
      }
     },
     "c709158fe8d94341adc4723d252e2637": {
      "model_module": "@jupyter-widgets/controls",
      "model_module_version": "1.5.0",
      "model_name": "FloatLogSliderModel",
      "state": {
       "description": "$I_{\\max}$ (W/cm$^2$)",
       "layout": "IPY_MODEL_d177663cbfca4de3bc23c8757395c2d6",
       "max": 18,
       "min": 12,
       "step": 0.01,
       "style": "IPY_MODEL_88dac8cddd474a97881c6294534e49ff",
       "value": 18600000000000000
      }
     },
     "c89ed9775ad744c7aed4949202662303": {
      "model_module": "@jupyter-widgets/controls",
      "model_module_version": "1.5.0",
      "model_name": "DescriptionStyleModel",
      "state": {
       "description_width": ""
      }
     },
     "cbd9375944914f9c9043adf522fa9a61": {
      "model_module": "@jupyter-widgets/base",
      "model_module_version": "1.2.0",
      "model_name": "LayoutModel",
      "state": {}
     },
     "cc4fbb150add495dbe6675224641debf": {
      "model_module": "@jupyter-widgets/controls",
      "model_module_version": "1.5.0",
      "model_name": "ToggleButtonsStyleModel",
      "state": {
       "button_width": "",
       "description_width": ""
      }
     },
     "d12d8821911c439b9a259da48fc68c45": {
      "model_module": "@jupyter-widgets/base",
      "model_module_version": "1.2.0",
      "model_name": "LayoutModel",
      "state": {}
     },
     "d177663cbfca4de3bc23c8757395c2d6": {
      "model_module": "@jupyter-widgets/base",
      "model_module_version": "1.2.0",
      "model_name": "LayoutModel",
      "state": {}
     },
     "d20683c8af794a8c8e4d4a86565cfd07": {
      "model_module": "@jupyter-widgets/controls",
      "model_module_version": "1.5.0",
      "model_name": "IntRangeSliderModel",
      "state": {
       "_model_name": "IntRangeSliderModel",
       "_view_name": "IntRangeSliderView",
       "description": "$x$ range",
       "layout": "IPY_MODEL_a4be721b172c4fd586c019a41e4cf2f4",
       "min": -100,
       "style": "IPY_MODEL_ee8c1d2756164bff9c69a7c55dabd13c",
       "value": [
        -10,
        10
       ]
      }
     },
     "d8dbd0ade69344e1930d6eb53791c8f1": {
      "model_module": "@jupyter-widgets/controls",
      "model_module_version": "1.5.0",
      "model_name": "SliderStyleModel",
      "state": {
       "description_width": ""
      }
     },
     "dc613b9d375c4c339359c5e9ce154aa0": {
      "model_module": "@jupyter-widgets/controls",
      "model_module_version": "1.5.0",
      "model_name": "IntSliderModel",
      "state": {
       "description": "$N_I$",
       "layout": "IPY_MODEL_fb4b9ddd623749f49ebb4b000e23cdbf",
       "max": 50,
       "min": 5,
       "step": 5,
       "style": "IPY_MODEL_0d6c2922b5e84d6ca69fe254c05d396b",
       "value": 20
      }
     },
     "dd93177333a643ecaca9938e6e5151c7": {
      "model_module": "@jupyter-widgets/base",
      "model_module_version": "1.2.0",
      "model_name": "LayoutModel",
      "state": {}
     },
     "dee31771d3c24e5985ab3a85bae4523d": {
      "model_module": "@jupyter-widgets/controls",
      "model_module_version": "1.5.0",
      "model_name": "SliderStyleModel",
      "state": {
       "description_width": ""
      }
     },
     "e433a8f0e3a44474a4e15ef4ccb06d28": {
      "model_module": "@jupyter-widgets/base",
      "model_module_version": "1.2.0",
      "model_name": "LayoutModel",
      "state": {}
     },
     "e5104cdb7b1549b69974a733c7df4c63": {
      "model_module": "@jupyter-widgets/base",
      "model_module_version": "1.2.0",
      "model_name": "LayoutModel",
      "state": {}
     },
     "e9ed29ef4a1c4f2abb62e64c8f0f1764": {
      "model_module": "@jupyter-widgets/controls",
      "model_module_version": "1.5.0",
      "model_name": "FloatSliderModel",
      "state": {
       "description": "$a$ (a.u.)",
       "layout": "IPY_MODEL_a936498ed69249d99b2c696b0c8bf402",
       "max": 10,
       "step": 0.1,
       "style": "IPY_MODEL_dee31771d3c24e5985ab3a85bae4523d",
       "value": 1
      }
     },
     "eaffaf62f703419fbdbc3f09ad0868ed": {
      "model_module": "@jupyter-widgets/base",
      "model_module_version": "1.2.0",
      "model_name": "LayoutModel",
      "state": {}
     },
     "eb02e5d68d15466fa4911ae1b06062ff": {
      "model_module": "@jupyter-widgets/controls",
      "model_module_version": "1.5.0",
      "model_name": "CheckboxModel",
      "state": {
       "description": "Animation",
       "disabled": false,
       "layout": "IPY_MODEL_eaffaf62f703419fbdbc3f09ad0868ed",
       "style": "IPY_MODEL_c89ed9775ad744c7aed4949202662303",
       "value": false
      }
     },
     "ee8c1d2756164bff9c69a7c55dabd13c": {
      "model_module": "@jupyter-widgets/controls",
      "model_module_version": "1.5.0",
      "model_name": "SliderStyleModel",
      "state": {
       "description_width": ""
      }
     },
     "f25cfc27a69a4731bfa8ccdb7e82f76e": {
      "model_module": "@jupyter-widgets/controls",
      "model_module_version": "1.5.0",
      "model_name": "IntSliderModel",
      "state": {
       "description": "$\\lambda$ (nm)",
       "layout": "IPY_MODEL_c0b6e007d8c7401c8877365098a09bf0",
       "max": 1600,
       "step": 20,
       "style": "IPY_MODEL_0187855a6f9d4a9abf7ba9378c479c28",
       "value": 780
      }
     },
     "f6b1e1f3539f455b8c3fad8e257af4ca": {
      "model_module": "@jupyter-widgets/controls",
      "model_module_version": "1.5.0",
      "model_name": "FloatRangeSliderModel",
      "state": {
       "_model_name": "FloatRangeSliderModel",
       "_view_name": "FloatRangeSliderView",
       "description": "$p_y$ range",
       "layout": "IPY_MODEL_872e6eeec02943fca4096490dba502ea",
       "max": 5,
       "min": -5,
       "step": 0.1,
       "style": "IPY_MODEL_62b2e68494274350bc5299af36035ba6",
       "value": [
        -1.5,
        1.5
       ]
      }
     },
     "f79e508d43ac444aa80501d59151e78f": {
      "model_module": "@jupyter-widgets/base",
      "model_module_version": "1.2.0",
      "model_name": "LayoutModel",
      "state": {}
     },
     "f9ecd3b9cfdf4ed09a2b044183198c9c": {
      "model_module": "@jupyter-widgets/base",
      "model_module_version": "1.2.0",
      "model_name": "LayoutModel",
      "state": {}
     },
     "fb4b9ddd623749f49ebb4b000e23cdbf": {
      "model_module": "@jupyter-widgets/base",
      "model_module_version": "1.2.0",
      "model_name": "LayoutModel",
      "state": {}
     },
     "fe6cd9dc308648cdb9dcd7cad2c0dd35": {
      "model_module": "@jupyter-widgets/controls",
      "model_module_version": "1.5.0",
      "model_name": "SliderStyleModel",
      "state": {
       "description_width": ""
      }
     }
    },
    "version_major": 2,
    "version_minor": 0
   }
  }
 },
 "nbformat": 4,
 "nbformat_minor": 4
}
